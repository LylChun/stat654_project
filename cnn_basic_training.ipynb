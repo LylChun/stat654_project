{
  "cells": [
    {
      "cell_type": "markdown",
      "metadata": {
        "id": "IFA9-x71FM0j"
      },
      "source": [
        "# Preliminary exploration notebook\n",
        "\n",
        "This notebook contains the following:\n",
        "* Data loading and brief visualization\n",
        "* tbd"
      ]
    },
    {
      "cell_type": "code",
      "execution_count": null,
      "metadata": {
        "colab": {
          "base_uri": "https://localhost:8080/"
        },
        "id": "vImyotNwG7Ip",
        "outputId": "4c498324-0191-4526-ca26-e6257b1a6c61"
      },
      "outputs": [
        {
          "output_type": "stream",
          "name": "stdout",
          "text": [
            "Mounted at /content/drive/\n"
          ]
        }
      ],
      "source": [
        "# for work in colab environment\n",
        "from google.colab import drive\n",
        "drive.mount('/content/drive/')"
      ]
    },
    {
      "cell_type": "code",
      "execution_count": null,
      "metadata": {
        "id": "Iq_1NY29HaYh"
      },
      "outputs": [],
      "source": [
        "import os # work with system\n",
        "import cv2 # work with images\n",
        "import numpy as np # arrays and numerical analysis\n",
        "import matplotlib.pyplot as plt # for data plots\n",
        "import pandas as pd\n",
        "\n",
        "import sklearn.linear_model # linear models\n",
        "from sklearn.model_selection import train_test_split # data splitting\n",
        "from sklearn import metrics # model evaluation\n",
        "import tensorflow.keras as keras\n",
        "import tensorflow as tf\n",
        "from tensorflow.keras import datasets, layers, models\n",
        "import random # for random sampling\n",
        "\n",
        "from google.colab.patches import cv2_imshow # to display image in colab\n",
        "\n",
        "### set working directory in data folder - assumes unzipped data lives in such a directory\n",
        "os.chdir(\"drive/Shareddrives/STAT654_Project/streetsign_data\")"
      ]
    },
    {
      "cell_type": "code",
      "execution_count": null,
      "metadata": {
        "colab": {
          "base_uri": "https://localhost:8080/",
          "height": 35
        },
        "id": "FQKsFXdvxDHW",
        "outputId": "f29b3fca-e76d-412b-a8ba-ce4b7a10e2a0"
      },
      "outputs": [
        {
          "output_type": "execute_result",
          "data": {
            "text/plain": [
              "'/content/drive/Shareddrives/STAT654_Project/streetsign_data'"
            ],
            "application/vnd.google.colaboratory.intrinsic+json": {
              "type": "string"
            }
          },
          "metadata": {},
          "execution_count": 4
        }
      ],
      "source": [
        "os.getcwd()"
      ]
    },
    {
      "cell_type": "code",
      "execution_count": null,
      "metadata": {
        "colab": {
          "base_uri": "https://localhost:8080/"
        },
        "id": "ZTwdySMHF3ND",
        "outputId": "898ff4e9-e45a-49b8-9d9e-bdd9707e0000"
      },
      "outputs": [
        {
          "output_type": "stream",
          "name": "stdout",
          "text": [
            "/content/drive/Shareddrives/STAT654_Project/streetsign_data\n",
            "/content/drive/Shareddrives/STAT654_Project/streetsign_data/20mph\n",
            "/content/drive/Shareddrives/STAT654_Project/streetsign_data/30mph\n",
            "/content/drive/Shareddrives/STAT654_Project/streetsign_data/10mph\n",
            "/content/drive/Shareddrives/STAT654_Project/streetsign_data/40mph\n",
            "/content/drive/Shareddrives/STAT654_Project/streetsign_data/road_narrows_on_both_sides\n",
            "/content/drive/Shareddrives/STAT654_Project/streetsign_data/road_narrows_on_right\n",
            "/content/drive/Shareddrives/STAT654_Project/streetsign_data/road_narrows_on_left\n",
            "/content/drive/Shareddrives/STAT654_Project/streetsign_data/turn_right\n",
            "/content/drive/Shareddrives/STAT654_Project/streetsign_data/turn_left_ahead\n",
            "/content/drive/Shareddrives/STAT654_Project/streetsign_data/turn_left\n",
            "/content/drive/Shareddrives/STAT654_Project/streetsign_data/no_entry\n",
            "/content/drive/Shareddrives/STAT654_Project/streetsign_data/no_through_road\n",
            "/content/drive/Shareddrives/STAT654_Project/streetsign_data/keep_right\n",
            "/content/drive/Shareddrives/STAT654_Project/streetsign_data/one_way_traffic\n",
            "/content/drive/Shareddrives/STAT654_Project/streetsign_data/no_right_turn\n",
            "/content/drive/Shareddrives/STAT654_Project/streetsign_data/crossroads\n",
            "/content/drive/Shareddrives/STAT654_Project/streetsign_data/mini_roundabout\n",
            "/content/drive/Shareddrives/STAT654_Project/streetsign_data/road_humps\n",
            "/content/drive/Shareddrives/STAT654_Project/streetsign_data/no_left_turn\n",
            "/content/drive/Shareddrives/STAT654_Project/streetsign_data/no_motor_vehicles\n",
            "/content/drive/Shareddrives/STAT654_Project/streetsign_data/cycle_route_ahead\n",
            "/content/drive/Shareddrives/STAT654_Project/streetsign_data/frail\n",
            "/content/drive/Shareddrives/STAT654_Project/streetsign_data/give_way\n",
            "/content/drive/Shareddrives/STAT654_Project/streetsign_data/give_way_to_oncoming\n",
            "/content/drive/Shareddrives/STAT654_Project/streetsign_data/keep_left\n",
            "/content/drive/Shareddrives/STAT654_Project/streetsign_data/road_works\n",
            "/content/drive/Shareddrives/STAT654_Project/streetsign_data/school_crossing\n",
            "/content/drive/Shareddrives/STAT654_Project/streetsign_data/traffic_has_priority\n",
            "/content/drive/Shareddrives/STAT654_Project/streetsign_data/traffic_signals\n",
            "/content/drive/Shareddrives/STAT654_Project/streetsign_data/zebra_crossing\n",
            "/content/drive/Shareddrives/STAT654_Project/streetsign_data/two_way_traffic\n",
            "55100\n"
          ]
        }
      ],
      "source": [
        "counter = 0 # if desired to break loop\n",
        "\n",
        "# labels and filenames should match since they are appended in order\n",
        "filenames = []\n",
        "labels = []\n",
        "labels_sub = []\n",
        "n_mph = n_turn = n_road = 0\n",
        "\n",
        "# walk through all directories and files in current working directory\n",
        "for root, dir, files in os.walk(os.getcwd()):\n",
        "  print(root)\n",
        "\n",
        "  for fig in files:\n",
        "      # if png file, then keep filename\n",
        "    if \".png\" in fig:\n",
        "      filenames.append(os.path.join(root, fig))\n",
        "\n",
        "      labels_sub.append(root.split('/')[-1])\n",
        "\n",
        "print(len(filenames))"
      ]
    },
    {
      "cell_type": "code",
      "execution_count": null,
      "metadata": {
        "colab": {
          "base_uri": "https://localhost:8080/"
        },
        "id": "yTfRukObzH6O",
        "outputId": "3e07956a-07d4-44d2-a33d-8c2b4173232c"
      },
      "outputs": [
        {
          "output_type": "execute_result",
          "data": {
            "text/plain": [
              "{'road_works': 0,\n",
              " 'crossroads': 1,\n",
              " 'road_humps': 2,\n",
              " 'no_left_turn': 3,\n",
              " 'give_way': 4,\n",
              " 'zebra_crossing': 5,\n",
              " 'road_narrows_on_right': 6,\n",
              " 'no_through_road': 7,\n",
              " 'road_narrows_on_left': 8,\n",
              " 'turn_left_ahead': 9,\n",
              " 'traffic_has_priority': 10,\n",
              " 'no_right_turn': 11,\n",
              " 'give_way_to_oncoming': 12,\n",
              " 'keep_right': 13,\n",
              " 'turn_right': 14,\n",
              " 'no_motor_vehicles': 15,\n",
              " '30mph': 16,\n",
              " 'road_narrows_on_both_sides': 17,\n",
              " 'frail': 18,\n",
              " '10mph': 19,\n",
              " 'turn_left': 20,\n",
              " '40mph': 21,\n",
              " 'school_crossing': 22,\n",
              " 'one_way_traffic': 23,\n",
              " 'cycle_route_ahead': 24,\n",
              " 'keep_left': 25,\n",
              " 'two_way_traffic': 26,\n",
              " 'traffic_signals': 27,\n",
              " 'no_entry': 28,\n",
              " '20mph': 29,\n",
              " 'mini_roundabout': 30}"
            ]
          },
          "metadata": {},
          "execution_count": 6
        }
      ],
      "source": [
        "unique_labels = list(set(labels_sub))\n",
        "labels_sub_dict = dict(zip(unique_labels, list(range(len(unique_labels)))))\n",
        "labels_sub_dict"
      ]
    },
    {
      "cell_type": "code",
      "execution_count": null,
      "metadata": {
        "id": "0RVKJndh8Emx"
      },
      "outputs": [],
      "source": [
        "labels_sub = [labels_sub_dict[x] for x in labels_sub]\n",
        "\n",
        "filenames_arr = np.array(filenames)\n",
        "labels_arr = np.array(labels)\n",
        "labels_sub_arr = np.array(labels_sub)"
      ]
    },
    {
      "cell_type": "code",
      "execution_count": null,
      "metadata": {
        "colab": {
          "base_uri": "https://localhost:8080/",
          "height": 1000
        },
        "id": "FN1JKSB6NBfz",
        "outputId": "4e6d2f17-cd77-4195-9ca5-32d27e228fc3"
      },
      "outputs": [
        {
          "output_type": "execute_result",
          "data": {
            "text/plain": [
              "    cat                       label  count\n",
              "0    29                       20mph   4617\n",
              "1     4                    give_way   4082\n",
              "2    19                       10mph   3639\n",
              "3    28                    no_entry   3209\n",
              "4    16                       30mph   2668\n",
              "5    26             two_way_traffic   2623\n",
              "6    11               no_right_turn   2418\n",
              "7     2                  road_humps   2372\n",
              "8    20                   turn_left   2320\n",
              "9     5              zebra_crossing   2314\n",
              "10   12        give_way_to_oncoming   2014\n",
              "11   21                       40mph   2012\n",
              "12    1                  crossroads   1974\n",
              "13    0                  road_works   1782\n",
              "14   15           no_motor_vehicles   1530\n",
              "15   25                   keep_left   1518\n",
              "16    8        road_narrows_on_left   1436\n",
              "17   17  road_narrows_on_both_sides   1285\n",
              "18    6       road_narrows_on_right   1248\n",
              "19    7             no_through_road   1197\n",
              "20   18                       frail   1099\n",
              "21    3                no_left_turn   1091\n",
              "22   27             traffic_signals   1078\n",
              "23   22             school_crossing    885\n",
              "24    9             turn_left_ahead    790\n",
              "25   13                  keep_right    767\n",
              "26   24           cycle_route_ahead    730\n",
              "27   30             mini_roundabout    626\n",
              "28   23             one_way_traffic    615\n",
              "29   14                  turn_right    585\n",
              "30   10        traffic_has_priority    576"
            ],
            "text/html": [
              "\n",
              "  <div id=\"df-887b9bb8-f917-47c0-a0bb-06d42a20c12e\" class=\"colab-df-container\">\n",
              "    <div>\n",
              "<style scoped>\n",
              "    .dataframe tbody tr th:only-of-type {\n",
              "        vertical-align: middle;\n",
              "    }\n",
              "\n",
              "    .dataframe tbody tr th {\n",
              "        vertical-align: top;\n",
              "    }\n",
              "\n",
              "    .dataframe thead th {\n",
              "        text-align: right;\n",
              "    }\n",
              "</style>\n",
              "<table border=\"1\" class=\"dataframe\">\n",
              "  <thead>\n",
              "    <tr style=\"text-align: right;\">\n",
              "      <th></th>\n",
              "      <th>cat</th>\n",
              "      <th>label</th>\n",
              "      <th>count</th>\n",
              "    </tr>\n",
              "  </thead>\n",
              "  <tbody>\n",
              "    <tr>\n",
              "      <th>0</th>\n",
              "      <td>29</td>\n",
              "      <td>20mph</td>\n",
              "      <td>4617</td>\n",
              "    </tr>\n",
              "    <tr>\n",
              "      <th>1</th>\n",
              "      <td>4</td>\n",
              "      <td>give_way</td>\n",
              "      <td>4082</td>\n",
              "    </tr>\n",
              "    <tr>\n",
              "      <th>2</th>\n",
              "      <td>19</td>\n",
              "      <td>10mph</td>\n",
              "      <td>3639</td>\n",
              "    </tr>\n",
              "    <tr>\n",
              "      <th>3</th>\n",
              "      <td>28</td>\n",
              "      <td>no_entry</td>\n",
              "      <td>3209</td>\n",
              "    </tr>\n",
              "    <tr>\n",
              "      <th>4</th>\n",
              "      <td>16</td>\n",
              "      <td>30mph</td>\n",
              "      <td>2668</td>\n",
              "    </tr>\n",
              "    <tr>\n",
              "      <th>5</th>\n",
              "      <td>26</td>\n",
              "      <td>two_way_traffic</td>\n",
              "      <td>2623</td>\n",
              "    </tr>\n",
              "    <tr>\n",
              "      <th>6</th>\n",
              "      <td>11</td>\n",
              "      <td>no_right_turn</td>\n",
              "      <td>2418</td>\n",
              "    </tr>\n",
              "    <tr>\n",
              "      <th>7</th>\n",
              "      <td>2</td>\n",
              "      <td>road_humps</td>\n",
              "      <td>2372</td>\n",
              "    </tr>\n",
              "    <tr>\n",
              "      <th>8</th>\n",
              "      <td>20</td>\n",
              "      <td>turn_left</td>\n",
              "      <td>2320</td>\n",
              "    </tr>\n",
              "    <tr>\n",
              "      <th>9</th>\n",
              "      <td>5</td>\n",
              "      <td>zebra_crossing</td>\n",
              "      <td>2314</td>\n",
              "    </tr>\n",
              "    <tr>\n",
              "      <th>10</th>\n",
              "      <td>12</td>\n",
              "      <td>give_way_to_oncoming</td>\n",
              "      <td>2014</td>\n",
              "    </tr>\n",
              "    <tr>\n",
              "      <th>11</th>\n",
              "      <td>21</td>\n",
              "      <td>40mph</td>\n",
              "      <td>2012</td>\n",
              "    </tr>\n",
              "    <tr>\n",
              "      <th>12</th>\n",
              "      <td>1</td>\n",
              "      <td>crossroads</td>\n",
              "      <td>1974</td>\n",
              "    </tr>\n",
              "    <tr>\n",
              "      <th>13</th>\n",
              "      <td>0</td>\n",
              "      <td>road_works</td>\n",
              "      <td>1782</td>\n",
              "    </tr>\n",
              "    <tr>\n",
              "      <th>14</th>\n",
              "      <td>15</td>\n",
              "      <td>no_motor_vehicles</td>\n",
              "      <td>1530</td>\n",
              "    </tr>\n",
              "    <tr>\n",
              "      <th>15</th>\n",
              "      <td>25</td>\n",
              "      <td>keep_left</td>\n",
              "      <td>1518</td>\n",
              "    </tr>\n",
              "    <tr>\n",
              "      <th>16</th>\n",
              "      <td>8</td>\n",
              "      <td>road_narrows_on_left</td>\n",
              "      <td>1436</td>\n",
              "    </tr>\n",
              "    <tr>\n",
              "      <th>17</th>\n",
              "      <td>17</td>\n",
              "      <td>road_narrows_on_both_sides</td>\n",
              "      <td>1285</td>\n",
              "    </tr>\n",
              "    <tr>\n",
              "      <th>18</th>\n",
              "      <td>6</td>\n",
              "      <td>road_narrows_on_right</td>\n",
              "      <td>1248</td>\n",
              "    </tr>\n",
              "    <tr>\n",
              "      <th>19</th>\n",
              "      <td>7</td>\n",
              "      <td>no_through_road</td>\n",
              "      <td>1197</td>\n",
              "    </tr>\n",
              "    <tr>\n",
              "      <th>20</th>\n",
              "      <td>18</td>\n",
              "      <td>frail</td>\n",
              "      <td>1099</td>\n",
              "    </tr>\n",
              "    <tr>\n",
              "      <th>21</th>\n",
              "      <td>3</td>\n",
              "      <td>no_left_turn</td>\n",
              "      <td>1091</td>\n",
              "    </tr>\n",
              "    <tr>\n",
              "      <th>22</th>\n",
              "      <td>27</td>\n",
              "      <td>traffic_signals</td>\n",
              "      <td>1078</td>\n",
              "    </tr>\n",
              "    <tr>\n",
              "      <th>23</th>\n",
              "      <td>22</td>\n",
              "      <td>school_crossing</td>\n",
              "      <td>885</td>\n",
              "    </tr>\n",
              "    <tr>\n",
              "      <th>24</th>\n",
              "      <td>9</td>\n",
              "      <td>turn_left_ahead</td>\n",
              "      <td>790</td>\n",
              "    </tr>\n",
              "    <tr>\n",
              "      <th>25</th>\n",
              "      <td>13</td>\n",
              "      <td>keep_right</td>\n",
              "      <td>767</td>\n",
              "    </tr>\n",
              "    <tr>\n",
              "      <th>26</th>\n",
              "      <td>24</td>\n",
              "      <td>cycle_route_ahead</td>\n",
              "      <td>730</td>\n",
              "    </tr>\n",
              "    <tr>\n",
              "      <th>27</th>\n",
              "      <td>30</td>\n",
              "      <td>mini_roundabout</td>\n",
              "      <td>626</td>\n",
              "    </tr>\n",
              "    <tr>\n",
              "      <th>28</th>\n",
              "      <td>23</td>\n",
              "      <td>one_way_traffic</td>\n",
              "      <td>615</td>\n",
              "    </tr>\n",
              "    <tr>\n",
              "      <th>29</th>\n",
              "      <td>14</td>\n",
              "      <td>turn_right</td>\n",
              "      <td>585</td>\n",
              "    </tr>\n",
              "    <tr>\n",
              "      <th>30</th>\n",
              "      <td>10</td>\n",
              "      <td>traffic_has_priority</td>\n",
              "      <td>576</td>\n",
              "    </tr>\n",
              "  </tbody>\n",
              "</table>\n",
              "</div>\n",
              "    <div class=\"colab-df-buttons\">\n",
              "\n",
              "  <div class=\"colab-df-container\">\n",
              "    <button class=\"colab-df-convert\" onclick=\"convertToInteractive('df-887b9bb8-f917-47c0-a0bb-06d42a20c12e')\"\n",
              "            title=\"Convert this dataframe to an interactive table.\"\n",
              "            style=\"display:none;\">\n",
              "\n",
              "  <svg xmlns=\"http://www.w3.org/2000/svg\" height=\"24px\" viewBox=\"0 -960 960 960\">\n",
              "    <path d=\"M120-120v-720h720v720H120Zm60-500h600v-160H180v160Zm220 220h160v-160H400v160Zm0 220h160v-160H400v160ZM180-400h160v-160H180v160Zm440 0h160v-160H620v160ZM180-180h160v-160H180v160Zm440 0h160v-160H620v160Z\"/>\n",
              "  </svg>\n",
              "    </button>\n",
              "\n",
              "  <style>\n",
              "    .colab-df-container {\n",
              "      display:flex;\n",
              "      gap: 12px;\n",
              "    }\n",
              "\n",
              "    .colab-df-convert {\n",
              "      background-color: #E8F0FE;\n",
              "      border: none;\n",
              "      border-radius: 50%;\n",
              "      cursor: pointer;\n",
              "      display: none;\n",
              "      fill: #1967D2;\n",
              "      height: 32px;\n",
              "      padding: 0 0 0 0;\n",
              "      width: 32px;\n",
              "    }\n",
              "\n",
              "    .colab-df-convert:hover {\n",
              "      background-color: #E2EBFA;\n",
              "      box-shadow: 0px 1px 2px rgba(60, 64, 67, 0.3), 0px 1px 3px 1px rgba(60, 64, 67, 0.15);\n",
              "      fill: #174EA6;\n",
              "    }\n",
              "\n",
              "    .colab-df-buttons div {\n",
              "      margin-bottom: 4px;\n",
              "    }\n",
              "\n",
              "    [theme=dark] .colab-df-convert {\n",
              "      background-color: #3B4455;\n",
              "      fill: #D2E3FC;\n",
              "    }\n",
              "\n",
              "    [theme=dark] .colab-df-convert:hover {\n",
              "      background-color: #434B5C;\n",
              "      box-shadow: 0px 1px 3px 1px rgba(0, 0, 0, 0.15);\n",
              "      filter: drop-shadow(0px 1px 2px rgba(0, 0, 0, 0.3));\n",
              "      fill: #FFFFFF;\n",
              "    }\n",
              "  </style>\n",
              "\n",
              "    <script>\n",
              "      const buttonEl =\n",
              "        document.querySelector('#df-887b9bb8-f917-47c0-a0bb-06d42a20c12e button.colab-df-convert');\n",
              "      buttonEl.style.display =\n",
              "        google.colab.kernel.accessAllowed ? 'block' : 'none';\n",
              "\n",
              "      async function convertToInteractive(key) {\n",
              "        const element = document.querySelector('#df-887b9bb8-f917-47c0-a0bb-06d42a20c12e');\n",
              "        const dataTable =\n",
              "          await google.colab.kernel.invokeFunction('convertToInteractive',\n",
              "                                                    [key], {});\n",
              "        if (!dataTable) return;\n",
              "\n",
              "        const docLinkHtml = 'Like what you see? Visit the ' +\n",
              "          '<a target=\"_blank\" href=https://colab.research.google.com/notebooks/data_table.ipynb>data table notebook</a>'\n",
              "          + ' to learn more about interactive tables.';\n",
              "        element.innerHTML = '';\n",
              "        dataTable['output_type'] = 'display_data';\n",
              "        await google.colab.output.renderOutput(dataTable, element);\n",
              "        const docLink = document.createElement('div');\n",
              "        docLink.innerHTML = docLinkHtml;\n",
              "        element.appendChild(docLink);\n",
              "      }\n",
              "    </script>\n",
              "  </div>\n",
              "\n",
              "\n",
              "<div id=\"df-6c7b33b5-0aa4-4776-9e98-ec613f9e6e09\">\n",
              "  <button class=\"colab-df-quickchart\" onclick=\"quickchart('df-6c7b33b5-0aa4-4776-9e98-ec613f9e6e09')\"\n",
              "            title=\"Suggest charts\"\n",
              "            style=\"display:none;\">\n",
              "\n",
              "<svg xmlns=\"http://www.w3.org/2000/svg\" height=\"24px\"viewBox=\"0 0 24 24\"\n",
              "     width=\"24px\">\n",
              "    <g>\n",
              "        <path d=\"M19 3H5c-1.1 0-2 .9-2 2v14c0 1.1.9 2 2 2h14c1.1 0 2-.9 2-2V5c0-1.1-.9-2-2-2zM9 17H7v-7h2v7zm4 0h-2V7h2v10zm4 0h-2v-4h2v4z\"/>\n",
              "    </g>\n",
              "</svg>\n",
              "  </button>\n",
              "\n",
              "<style>\n",
              "  .colab-df-quickchart {\n",
              "      --bg-color: #E8F0FE;\n",
              "      --fill-color: #1967D2;\n",
              "      --hover-bg-color: #E2EBFA;\n",
              "      --hover-fill-color: #174EA6;\n",
              "      --disabled-fill-color: #AAA;\n",
              "      --disabled-bg-color: #DDD;\n",
              "  }\n",
              "\n",
              "  [theme=dark] .colab-df-quickchart {\n",
              "      --bg-color: #3B4455;\n",
              "      --fill-color: #D2E3FC;\n",
              "      --hover-bg-color: #434B5C;\n",
              "      --hover-fill-color: #FFFFFF;\n",
              "      --disabled-bg-color: #3B4455;\n",
              "      --disabled-fill-color: #666;\n",
              "  }\n",
              "\n",
              "  .colab-df-quickchart {\n",
              "    background-color: var(--bg-color);\n",
              "    border: none;\n",
              "    border-radius: 50%;\n",
              "    cursor: pointer;\n",
              "    display: none;\n",
              "    fill: var(--fill-color);\n",
              "    height: 32px;\n",
              "    padding: 0;\n",
              "    width: 32px;\n",
              "  }\n",
              "\n",
              "  .colab-df-quickchart:hover {\n",
              "    background-color: var(--hover-bg-color);\n",
              "    box-shadow: 0 1px 2px rgba(60, 64, 67, 0.3), 0 1px 3px 1px rgba(60, 64, 67, 0.15);\n",
              "    fill: var(--button-hover-fill-color);\n",
              "  }\n",
              "\n",
              "  .colab-df-quickchart-complete:disabled,\n",
              "  .colab-df-quickchart-complete:disabled:hover {\n",
              "    background-color: var(--disabled-bg-color);\n",
              "    fill: var(--disabled-fill-color);\n",
              "    box-shadow: none;\n",
              "  }\n",
              "\n",
              "  .colab-df-spinner {\n",
              "    border: 2px solid var(--fill-color);\n",
              "    border-color: transparent;\n",
              "    border-bottom-color: var(--fill-color);\n",
              "    animation:\n",
              "      spin 1s steps(1) infinite;\n",
              "  }\n",
              "\n",
              "  @keyframes spin {\n",
              "    0% {\n",
              "      border-color: transparent;\n",
              "      border-bottom-color: var(--fill-color);\n",
              "      border-left-color: var(--fill-color);\n",
              "    }\n",
              "    20% {\n",
              "      border-color: transparent;\n",
              "      border-left-color: var(--fill-color);\n",
              "      border-top-color: var(--fill-color);\n",
              "    }\n",
              "    30% {\n",
              "      border-color: transparent;\n",
              "      border-left-color: var(--fill-color);\n",
              "      border-top-color: var(--fill-color);\n",
              "      border-right-color: var(--fill-color);\n",
              "    }\n",
              "    40% {\n",
              "      border-color: transparent;\n",
              "      border-right-color: var(--fill-color);\n",
              "      border-top-color: var(--fill-color);\n",
              "    }\n",
              "    60% {\n",
              "      border-color: transparent;\n",
              "      border-right-color: var(--fill-color);\n",
              "    }\n",
              "    80% {\n",
              "      border-color: transparent;\n",
              "      border-right-color: var(--fill-color);\n",
              "      border-bottom-color: var(--fill-color);\n",
              "    }\n",
              "    90% {\n",
              "      border-color: transparent;\n",
              "      border-bottom-color: var(--fill-color);\n",
              "    }\n",
              "  }\n",
              "</style>\n",
              "\n",
              "  <script>\n",
              "    async function quickchart(key) {\n",
              "      const quickchartButtonEl =\n",
              "        document.querySelector('#' + key + ' button');\n",
              "      quickchartButtonEl.disabled = true;  // To prevent multiple clicks.\n",
              "      quickchartButtonEl.classList.add('colab-df-spinner');\n",
              "      try {\n",
              "        const charts = await google.colab.kernel.invokeFunction(\n",
              "            'suggestCharts', [key], {});\n",
              "      } catch (error) {\n",
              "        console.error('Error during call to suggestCharts:', error);\n",
              "      }\n",
              "      quickchartButtonEl.classList.remove('colab-df-spinner');\n",
              "      quickchartButtonEl.classList.add('colab-df-quickchart-complete');\n",
              "    }\n",
              "    (() => {\n",
              "      let quickchartButtonEl =\n",
              "        document.querySelector('#df-6c7b33b5-0aa4-4776-9e98-ec613f9e6e09 button');\n",
              "      quickchartButtonEl.style.display =\n",
              "        google.colab.kernel.accessAllowed ? 'block' : 'none';\n",
              "    })();\n",
              "  </script>\n",
              "</div>\n",
              "\n",
              "    </div>\n",
              "  </div>\n"
            ],
            "application/vnd.google.colaboratory.intrinsic+json": {
              "type": "dataframe",
              "summary": "{\n  \"name\": \"tmp\",\n  \"rows\": 31,\n  \"fields\": [\n    {\n      \"column\": \"cat\",\n      \"properties\": {\n        \"dtype\": \"number\",\n        \"std\": 9,\n        \"min\": 0,\n        \"max\": 30,\n        \"num_unique_values\": 31,\n        \"samples\": [\n          30,\n          25,\n          22\n        ],\n        \"semantic_type\": \"\",\n        \"description\": \"\"\n      }\n    },\n    {\n      \"column\": \"label\",\n      \"properties\": {\n        \"dtype\": \"string\",\n        \"num_unique_values\": 31,\n        \"samples\": [\n          \"mini_roundabout\",\n          \"keep_left\",\n          \"school_crossing\"\n        ],\n        \"semantic_type\": \"\",\n        \"description\": \"\"\n      }\n    },\n    {\n      \"column\": \"count\",\n      \"properties\": {\n        \"dtype\": \"number\",\n        \"std\": 1062,\n        \"min\": 576,\n        \"max\": 4617,\n        \"num_unique_values\": 31,\n        \"samples\": [\n          626,\n          1518,\n          885\n        ],\n        \"semantic_type\": \"\",\n        \"description\": \"\"\n      }\n    }\n  ]\n}"
            }
          },
          "metadata": {},
          "execution_count": 11
        }
      ],
      "source": [
        "tmp_dict = {value: key for key, value in labels_sub_dict.items()}\n",
        "\n",
        "tmp = pd.DataFrame({'cat': labels_sub})\n",
        "tmp['label'] = tmp['cat'].map(tmp_dict)\n",
        "tmp.value_counts().reset_index()"
      ]
    },
    {
      "cell_type": "code",
      "source": [
        "# vizualize data availability by category\n",
        "\n",
        "import seaborn as sns\n",
        "import matplotlib.pyplot as plt\n",
        "\n",
        "sns.countplot(x = 'label', data = tmp)\n",
        "plt.xticks(rotation=90, ha='right')\n",
        "plt.title('Count of Images by Type')\n",
        "plt.show()"
      ],
      "metadata": {
        "colab": {
          "base_uri": "https://localhost:8080/",
          "height": 657
        },
        "id": "4ohNs6Sio5Bu",
        "outputId": "f872ce4f-a60e-4d63-864e-0ac9a05b344d"
      },
      "execution_count": null,
      "outputs": [
        {
          "output_type": "display_data",
          "data": {
            "text/plain": [
              "<Figure size 640x480 with 1 Axes>"
            ],
            "image/png": "[encoded data removed]"
          },
          "metadata": {}
        }
      ]
    },
    {
      "cell_type": "markdown",
      "metadata": {
        "id": "mOPNq00OyzRh"
      },
      "source": [
        "# functions"
      ]
    },
    {
      "cell_type": "code",
      "execution_count": null,
      "metadata": {
        "id": "gAO-Ih3qzYfc"
      },
      "outputs": [],
      "source": [
        "# labels2 is the subcat labels, use labels for resampling based on 3 overarching cats\n",
        "def resample_classes(files, labels, seed):\n",
        "\n",
        "  '''\n",
        "  files and labels should both be np arrays\n",
        "  '''\n",
        "\n",
        "  # set seed for reproducibility (and possibly error computation)\n",
        "  random.seed(seed)\n",
        "  # get number of minimum class\n",
        "  # n_minority = np.min([n_mph, n_turn, n_mph])\n",
        "  n_minority = 576 # minumum class across all 31 categories\n",
        "\n",
        "  # downsample to minimum across categories\n",
        "  out_index = np.empty(n_minority*31)\n",
        "  for i in range(31):\n",
        "    if i == 0:\n",
        "      out_index = np.array(random.sample(list(np.where(labels == i)[0]), n_minority))\n",
        "    else:\n",
        "      out_index = np.concatenate((out_index, np.array(random.sample(list(np.where(labels == i)[0]), n_minority))))\n",
        "\n",
        "  # subset to resampled data - classes now balanced\n",
        "  filenames_resampled = files[out_index]\n",
        "  labels_resampled = labels[out_index]\n",
        "\n",
        "  print(f'total samples: {out_index.shape[0]}')\n",
        "  for i in range(31):\n",
        "    print(f'samples for {i}: {labels_resampled[labels_resampled == i].shape[0]}')\n",
        "\n",
        "  return filenames_resampled, labels_resampled"
      ]
    },
    {
      "cell_type": "code",
      "execution_count": null,
      "metadata": {
        "id": "2eEtUMuYu_09"
      },
      "outputs": [],
      "source": [
        "def split_data(files, labels, seed = 27, train = 0.8, test = 0.15):\n",
        "\n",
        "  '''\n",
        "  files and labels should both be np arrays\n",
        "  '''\n",
        "\n",
        "  # split data: train is 1-test_size and test is test_size*leftover\n",
        "  # must stratify to ensure roughly equal splits in train, val, test\n",
        "  # train and test specified, val is 1 - (train + test)\n",
        "  x_train, x_test, y_train, y_test = train_test_split(\n",
        "      files, labels, test_size = 1-train, stratify = labels, shuffle = True, random_state = seed)\n",
        "  x_val, x_test, y_val, y_test = train_test_split(\n",
        "      x_test, y_test, test_size = test/(1-train), stratify = y_test, shuffle = True, random_state = seed)\n",
        "\n",
        "  print(f'train: {x_train.shape[0]} ({x_train.shape[0]/labels.shape[0]*100:.2f}%)')\n",
        "  print(f'val: {x_val.shape[0]} ({x_val.shape[0]/labels.shape[0]*100:.2f}%)')\n",
        "  print(f'test: {x_test.shape[0]} ({x_test.shape[0]/labels.shape[0]*100:.2f}%)')\n",
        "\n",
        "  return x_train, y_train, x_val, y_val, x_test, y_test"
      ]
    },
    {
      "cell_type": "code",
      "execution_count": null,
      "metadata": {
        "id": "g5xDejSz18Af"
      },
      "outputs": [],
      "source": [
        "class data_generator(keras.utils.Sequence) :\n",
        "\n",
        "  def __init__(self, image_filenames, labels, batch_size, log) :\n",
        "    self.image_filenames = image_filenames\n",
        "    self.labels = labels\n",
        "    self.batch_size = batch_size\n",
        "    self.log = log\n",
        "\n",
        "  def __len__(self) :\n",
        "    return (np.ceil(len(self.image_filenames) / float(self.batch_size))).astype(int)\n",
        "\n",
        "  def __getitem__(self, idx) :\n",
        "    batch_x = self.image_filenames[idx * self.batch_size : (idx+1) * self.batch_size]\n",
        "    batch_y = self.labels[idx * self.batch_size : (idx+1) * self.batch_size]\n",
        "\n",
        "    # read in and process image (different resizing for logistic regression to reduce trainable parameters)\n",
        "    if self.log:\n",
        "      x_list = [cv2.resize(cv2.imread(file_name, cv2.IMREAD_GRAYSCALE), (100, 60), interpolation = cv2.INTER_NEAREST) for file_name in batch_x]\n",
        "    else:\n",
        "      x_list = [cv2.resize(cv2.imread(file_name, cv2.IMREAD_GRAYSCALE), (256, 256), interpolation = cv2.INTER_NEAREST) for file_name in batch_x]\n",
        "\n",
        "    x_arr = np.array(x_list)\n",
        "    x_arr_reshaped = x_arr.reshape([x_arr.shape[0], x_arr.shape[1], x_arr.shape[2], 1])\n",
        "\n",
        "    y_arr = np.array(batch_y)\n",
        "    y_arr_reshaped = y_arr.reshape([x_arr_reshaped.shape[0], 1])\n",
        "\n",
        "    return x_arr_reshaped, y_arr_reshaped"
      ]
    },
    {
      "cell_type": "code",
      "execution_count": null,
      "metadata": {
        "id": "wn6p728ewZ7-"
      },
      "outputs": [],
      "source": [
        "def create_generators(x_train, y_train, x_val, y_val, x_test, y_test, batch_size = 32, log = False):\n",
        "\n",
        "  train_generator = data_generator(x_train, y_train, batch_size, log)\n",
        "  validation_generator = data_generator(x_val, y_val, batch_size, log)\n",
        "  test_generator = data_generator(x_test, y_test, batch_size, log)\n",
        "\n",
        "  return train_generator, validation_generator, test_generator\n"
      ]
    },
    {
      "cell_type": "code",
      "execution_count": null,
      "metadata": {
        "id": "nvYr1w73QYDC"
      },
      "outputs": [],
      "source": [
        "def count_split(data): # much better would be to count 0 and 1 in y_*\n",
        "\n",
        "  data = list(data)\n",
        "  snake = [x for x in data if \"Snake_Images\" in x]\n",
        "  empty = [x for x in data if \"Empty\" in x]\n",
        "\n",
        "  print(f'total: {len(data)}')\n",
        "  print(f'snake: {len(snake)} ({len(snake)/len(data)*100:.2f}%)')\n",
        "  print(f'empty: {len(empty)} ({len(empty)/len(data)*100:.2f}%)')"
      ]
    },
    {
      "cell_type": "markdown",
      "metadata": {
        "id": "3RFAPQerxj5d"
      },
      "source": [
        "## CNN - basic"
      ]
    },
    {
      "cell_type": "code",
      "execution_count": null,
      "metadata": {
        "colab": {
          "base_uri": "https://localhost:8080/"
        },
        "id": "NTvGroJoJPhA",
        "outputId": "65421dc8-3bc9-45db-c19d-0bb7fc319aea"
      },
      "outputs": [
        {
          "output_type": "stream",
          "name": "stdout",
          "text": [
            "total samples: 17856\n",
            "samples for 0: 576\n",
            "samples for 1: 576\n",
            "samples for 2: 576\n",
            "samples for 3: 576\n",
            "samples for 4: 576\n",
            "samples for 5: 576\n",
            "samples for 6: 576\n",
            "samples for 7: 576\n",
            "samples for 8: 576\n",
            "samples for 9: 576\n",
            "samples for 10: 576\n",
            "samples for 11: 576\n",
            "samples for 12: 576\n",
            "samples for 13: 576\n",
            "samples for 14: 576\n",
            "samples for 15: 576\n",
            "samples for 16: 576\n",
            "samples for 17: 576\n",
            "samples for 18: 576\n",
            "samples for 19: 576\n",
            "samples for 20: 576\n",
            "samples for 21: 576\n",
            "samples for 22: 576\n",
            "samples for 23: 576\n",
            "samples for 24: 576\n",
            "samples for 25: 576\n",
            "samples for 26: 576\n",
            "samples for 27: 576\n",
            "samples for 28: 576\n",
            "samples for 29: 576\n",
            "samples for 30: 576\n",
            "train: 38569 (70.00%)\n",
            "val: 5510 (10.00%)\n",
            "test: 11021 (20.00%)\n"
          ]
        }
      ],
      "source": [
        "seed = 1\n",
        "batch_size = 32\n",
        "\n",
        "filenames_resampled, labels_resampled = resample_classes(filenames_arr, labels_sub_arr, seed)\n",
        "filenames_resampled, labels_resampled = filenames_arr, labels_sub_arr\n",
        "x_train, y_train, x_val, y_val, x_test, y_test = split_data(filenames_resampled, labels_resampled, train = 0.7, test = 0.2)\n"
      ]
    },
    {
      "cell_type": "code",
      "execution_count": null,
      "metadata": {
        "id": "Annq0ORw2d-O"
      },
      "outputs": [],
      "source": [
        "# create data generators\n",
        "train_generator, validation_generator, test_generator = create_generators(x_train, y_train, x_val, y_val, x_test, y_test, batch_size = batch_size, log = False)"
      ]
    },
    {
      "cell_type": "code",
      "execution_count": null,
      "metadata": {
        "id": "I2rsHpz40FMw"
      },
      "outputs": [],
      "source": [
        "# create model\n",
        "def build_model():\n",
        "\n",
        "    model = models.Sequential()\n",
        "    model.add(layers.Rescaling(1./255, input_shape = (256, 256, 1)))\n",
        "    model.add(layers.Conv2D(16, (3, 3), activation='relu', input_shape=(256, 256, 1)))\n",
        "    model.add(layers.MaxPooling2D((2, 2)))\n",
        "    model.add(layers.Conv2D(32, (3, 3), activation='relu'))\n",
        "    model.add(layers.MaxPooling2D((2, 2)))\n",
        "    model.add(layers.Conv2D(64, (3, 3), activation='relu'))\n",
        "    model.add(layers.MaxPooling2D((2, 2)))\n",
        "\n",
        "    model.add(layers.Flatten())\n",
        "    model.add(layers.Dense(128, activation='relu'))\n",
        "    model.add(layers.Dense(31, activation = 'softmax'))\n",
        "\n",
        "    # compile model with desired features\n",
        "    model.compile(\n",
        "        optimizer = \"adam\", loss = \"sparse_categorical_crossentropy\",\n",
        "        metrics=['accuracy']\n",
        "    )\n",
        "\n",
        "    return model"
      ]
    },
    {
      "cell_type": "code",
      "execution_count": null,
      "metadata": {
        "colab": {
          "base_uri": "https://localhost:8080/"
        },
        "id": "2TeCVESl0Kou",
        "outputId": "a7b81ef7-65b9-4767-af94-a6e1dd5cf1b6"
      },
      "outputs": [
        {
          "output_type": "stream",
          "name": "stderr",
          "text": [
            "/usr/local/lib/python3.11/dist-packages/keras/src/layers/preprocessing/tf_data_layer.py:19: UserWarning: Do not pass an `input_shape`/`input_dim` argument to a layer. When using Sequential models, prefer using an `Input(shape)` object as the first layer in the model instead.\n",
            "  super().__init__(**kwargs)\n",
            "/usr/local/lib/python3.11/dist-packages/keras/src/layers/convolutional/base_conv.py:107: UserWarning: Do not pass an `input_shape`/`input_dim` argument to a layer. When using Sequential models, prefer using an `Input(shape)` object as the first layer in the model instead.\n",
            "  super().__init__(activity_regularizer=activity_regularizer, **kwargs)\n"
          ]
        }
      ],
      "source": [
        "# build the model\n",
        "cnn_model = build_model()"
      ]
    },
    {
      "cell_type": "code",
      "execution_count": null,
      "metadata": {
        "colab": {
          "base_uri": "https://localhost:8080/",
          "height": 449
        },
        "id": "cqn7xDxKUkEg",
        "outputId": "3b354acd-5570-4e95-f0d3-4466ccba1b89"
      },
      "outputs": [
        {
          "output_type": "display_data",
          "data": {
            "text/plain": [
              "\u001b[1mModel: \"sequential\"\u001b[0m\n"
            ],
            "text/html": [
              "<pre style=\"white-space:pre;overflow-x:auto;line-height:normal;font-family:Menlo,'DejaVu Sans Mono',consolas,'Courier New',monospace\"><span style=\"font-weight: bold\">Model: \"sequential\"</span>\n",
              "</pre>\n"
            ]
          },
          "metadata": {}
        },
        {
          "output_type": "display_data",
          "data": {
            "text/plain": [
              "┏━━━━━━━━━━━━━━━━━━━━━━━━━━━━━━━━━━━━━━┳━━━━━━━━━━━━━━━━━━━━━━━━━━━━━┳━━━━━━━━━━━━━━━━━┓\n",
              "┃\u001b[1m \u001b[0m\u001b[1mLayer (type)                        \u001b[0m\u001b[1m \u001b[0m┃\u001b[1m \u001b[0m\u001b[1mOutput Shape               \u001b[0m\u001b[1m \u001b[0m┃\u001b[1m \u001b[0m\u001b[1m        Param #\u001b[0m\u001b[1m \u001b[0m┃\n",
              "┡━━━━━━━━━━━━━━━━━━━━━━━━━━━━━━━━━━━━━━╇━━━━━━━━━━━━━━━━━━━━━━━━━━━━━╇━━━━━━━━━━━━━━━━━┩\n",
              "│ rescaling (\u001b[38;5;33mRescaling\u001b[0m)                │ (\u001b[38;5;45mNone\u001b[0m, \u001b[38;5;34m256\u001b[0m, \u001b[38;5;34m256\u001b[0m, \u001b[38;5;34m1\u001b[0m)         │               \u001b[38;5;34m0\u001b[0m │\n",
              "├──────────────────────────────────────┼─────────────────────────────┼─────────────────┤\n",
              "│ conv2d (\u001b[38;5;33mConv2D\u001b[0m)                      │ (\u001b[38;5;45mNone\u001b[0m, \u001b[38;5;34m254\u001b[0m, \u001b[38;5;34m254\u001b[0m, \u001b[38;5;34m16\u001b[0m)        │             \u001b[38;5;34m160\u001b[0m │\n",
              "├──────────────────────────────────────┼─────────────────────────────┼─────────────────┤\n",
              "│ max_pooling2d (\u001b[38;5;33mMaxPooling2D\u001b[0m)         │ (\u001b[38;5;45mNone\u001b[0m, \u001b[38;5;34m127\u001b[0m, \u001b[38;5;34m127\u001b[0m, \u001b[38;5;34m16\u001b[0m)        │               \u001b[38;5;34m0\u001b[0m │\n",
              "├──────────────────────────────────────┼─────────────────────────────┼─────────────────┤\n",
              "│ conv2d_1 (\u001b[38;5;33mConv2D\u001b[0m)                    │ (\u001b[38;5;45mNone\u001b[0m, \u001b[38;5;34m125\u001b[0m, \u001b[38;5;34m125\u001b[0m, \u001b[38;5;34m32\u001b[0m)        │           \u001b[38;5;34m4,640\u001b[0m │\n",
              "├──────────────────────────────────────┼─────────────────────────────┼─────────────────┤\n",
              "│ max_pooling2d_1 (\u001b[38;5;33mMaxPooling2D\u001b[0m)       │ (\u001b[38;5;45mNone\u001b[0m, \u001b[38;5;34m62\u001b[0m, \u001b[38;5;34m62\u001b[0m, \u001b[38;5;34m32\u001b[0m)          │               \u001b[38;5;34m0\u001b[0m │\n",
              "├──────────────────────────────────────┼─────────────────────────────┼─────────────────┤\n",
              "│ conv2d_2 (\u001b[38;5;33mConv2D\u001b[0m)                    │ (\u001b[38;5;45mNone\u001b[0m, \u001b[38;5;34m60\u001b[0m, \u001b[38;5;34m60\u001b[0m, \u001b[38;5;34m64\u001b[0m)          │          \u001b[38;5;34m18,496\u001b[0m │\n",
              "├──────────────────────────────────────┼─────────────────────────────┼─────────────────┤\n",
              "│ max_pooling2d_2 (\u001b[38;5;33mMaxPooling2D\u001b[0m)       │ (\u001b[38;5;45mNone\u001b[0m, \u001b[38;5;34m30\u001b[0m, \u001b[38;5;34m30\u001b[0m, \u001b[38;5;34m64\u001b[0m)          │               \u001b[38;5;34m0\u001b[0m │\n",
              "├──────────────────────────────────────┼─────────────────────────────┼─────────────────┤\n",
              "│ flatten (\u001b[38;5;33mFlatten\u001b[0m)                    │ (\u001b[38;5;45mNone\u001b[0m, \u001b[38;5;34m57600\u001b[0m)               │               \u001b[38;5;34m0\u001b[0m │\n",
              "├──────────────────────────────────────┼─────────────────────────────┼─────────────────┤\n",
              "│ dense (\u001b[38;5;33mDense\u001b[0m)                        │ (\u001b[38;5;45mNone\u001b[0m, \u001b[38;5;34m128\u001b[0m)                 │       \u001b[38;5;34m7,372,928\u001b[0m │\n",
              "├──────────────────────────────────────┼─────────────────────────────┼─────────────────┤\n",
              "│ dense_1 (\u001b[38;5;33mDense\u001b[0m)                      │ (\u001b[38;5;45mNone\u001b[0m, \u001b[38;5;34m31\u001b[0m)                  │           \u001b[38;5;34m3,999\u001b[0m │\n",
              "└──────────────────────────────────────┴─────────────────────────────┴─────────────────┘\n"
            ],
            "text/html": [
              "<pre style=\"white-space:pre;overflow-x:auto;line-height:normal;font-family:Menlo,'DejaVu Sans Mono',consolas,'Courier New',monospace\">┏━━━━━━━━━━━━━━━━━━━━━━━━━━━━━━━━━━━━━━┳━━━━━━━━━━━━━━━━━━━━━━━━━━━━━┳━━━━━━━━━━━━━━━━━┓\n",
              "┃<span style=\"font-weight: bold\"> Layer (type)                         </span>┃<span style=\"font-weight: bold\"> Output Shape                </span>┃<span style=\"font-weight: bold\">         Param # </span>┃\n",
              "┡━━━━━━━━━━━━━━━━━━━━━━━━━━━━━━━━━━━━━━╇━━━━━━━━━━━━━━━━━━━━━━━━━━━━━╇━━━━━━━━━━━━━━━━━┩\n",
              "│ rescaling (<span style=\"color: #0087ff; text-decoration-color: #0087ff\">Rescaling</span>)                │ (<span style=\"color: #00d7ff; text-decoration-color: #00d7ff\">None</span>, <span style=\"color: #00af00; text-decoration-color: #00af00\">256</span>, <span style=\"color: #00af00; text-decoration-color: #00af00\">256</span>, <span style=\"color: #00af00; text-decoration-color: #00af00\">1</span>)         │               <span style=\"color: #00af00; text-decoration-color: #00af00\">0</span> │\n",
              "├──────────────────────────────────────┼─────────────────────────────┼─────────────────┤\n",
              "│ conv2d (<span style=\"color: #0087ff; text-decoration-color: #0087ff\">Conv2D</span>)                      │ (<span style=\"color: #00d7ff; text-decoration-color: #00d7ff\">None</span>, <span style=\"color: #00af00; text-decoration-color: #00af00\">254</span>, <span style=\"color: #00af00; text-decoration-color: #00af00\">254</span>, <span style=\"color: #00af00; text-decoration-color: #00af00\">16</span>)        │             <span style=\"color: #00af00; text-decoration-color: #00af00\">160</span> │\n",
              "├──────────────────────────────────────┼─────────────────────────────┼─────────────────┤\n",
              "│ max_pooling2d (<span style=\"color: #0087ff; text-decoration-color: #0087ff\">MaxPooling2D</span>)         │ (<span style=\"color: #00d7ff; text-decoration-color: #00d7ff\">None</span>, <span style=\"color: #00af00; text-decoration-color: #00af00\">127</span>, <span style=\"color: #00af00; text-decoration-color: #00af00\">127</span>, <span style=\"color: #00af00; text-decoration-color: #00af00\">16</span>)        │               <span style=\"color: #00af00; text-decoration-color: #00af00\">0</span> │\n",
              "├──────────────────────────────────────┼─────────────────────────────┼─────────────────┤\n",
              "│ conv2d_1 (<span style=\"color: #0087ff; text-decoration-color: #0087ff\">Conv2D</span>)                    │ (<span style=\"color: #00d7ff; text-decoration-color: #00d7ff\">None</span>, <span style=\"color: #00af00; text-decoration-color: #00af00\">125</span>, <span style=\"color: #00af00; text-decoration-color: #00af00\">125</span>, <span style=\"color: #00af00; text-decoration-color: #00af00\">32</span>)        │           <span style=\"color: #00af00; text-decoration-color: #00af00\">4,640</span> │\n",
              "├──────────────────────────────────────┼─────────────────────────────┼─────────────────┤\n",
              "│ max_pooling2d_1 (<span style=\"color: #0087ff; text-decoration-color: #0087ff\">MaxPooling2D</span>)       │ (<span style=\"color: #00d7ff; text-decoration-color: #00d7ff\">None</span>, <span style=\"color: #00af00; text-decoration-color: #00af00\">62</span>, <span style=\"color: #00af00; text-decoration-color: #00af00\">62</span>, <span style=\"color: #00af00; text-decoration-color: #00af00\">32</span>)          │               <span style=\"color: #00af00; text-decoration-color: #00af00\">0</span> │\n",
              "├──────────────────────────────────────┼─────────────────────────────┼─────────────────┤\n",
              "│ conv2d_2 (<span style=\"color: #0087ff; text-decoration-color: #0087ff\">Conv2D</span>)                    │ (<span style=\"color: #00d7ff; text-decoration-color: #00d7ff\">None</span>, <span style=\"color: #00af00; text-decoration-color: #00af00\">60</span>, <span style=\"color: #00af00; text-decoration-color: #00af00\">60</span>, <span style=\"color: #00af00; text-decoration-color: #00af00\">64</span>)          │          <span style=\"color: #00af00; text-decoration-color: #00af00\">18,496</span> │\n",
              "├──────────────────────────────────────┼─────────────────────────────┼─────────────────┤\n",
              "│ max_pooling2d_2 (<span style=\"color: #0087ff; text-decoration-color: #0087ff\">MaxPooling2D</span>)       │ (<span style=\"color: #00d7ff; text-decoration-color: #00d7ff\">None</span>, <span style=\"color: #00af00; text-decoration-color: #00af00\">30</span>, <span style=\"color: #00af00; text-decoration-color: #00af00\">30</span>, <span style=\"color: #00af00; text-decoration-color: #00af00\">64</span>)          │               <span style=\"color: #00af00; text-decoration-color: #00af00\">0</span> │\n",
              "├──────────────────────────────────────┼─────────────────────────────┼─────────────────┤\n",
              "│ flatten (<span style=\"color: #0087ff; text-decoration-color: #0087ff\">Flatten</span>)                    │ (<span style=\"color: #00d7ff; text-decoration-color: #00d7ff\">None</span>, <span style=\"color: #00af00; text-decoration-color: #00af00\">57600</span>)               │               <span style=\"color: #00af00; text-decoration-color: #00af00\">0</span> │\n",
              "├──────────────────────────────────────┼─────────────────────────────┼─────────────────┤\n",
              "│ dense (<span style=\"color: #0087ff; text-decoration-color: #0087ff\">Dense</span>)                        │ (<span style=\"color: #00d7ff; text-decoration-color: #00d7ff\">None</span>, <span style=\"color: #00af00; text-decoration-color: #00af00\">128</span>)                 │       <span style=\"color: #00af00; text-decoration-color: #00af00\">7,372,928</span> │\n",
              "├──────────────────────────────────────┼─────────────────────────────┼─────────────────┤\n",
              "│ dense_1 (<span style=\"color: #0087ff; text-decoration-color: #0087ff\">Dense</span>)                      │ (<span style=\"color: #00d7ff; text-decoration-color: #00d7ff\">None</span>, <span style=\"color: #00af00; text-decoration-color: #00af00\">31</span>)                  │           <span style=\"color: #00af00; text-decoration-color: #00af00\">3,999</span> │\n",
              "└──────────────────────────────────────┴─────────────────────────────┴─────────────────┘\n",
              "</pre>\n"
            ]
          },
          "metadata": {}
        },
        {
          "output_type": "display_data",
          "data": {
            "text/plain": [
              "\u001b[1m Total params: \u001b[0m\u001b[38;5;34m7,400,223\u001b[0m (28.23 MB)\n"
            ],
            "text/html": [
              "<pre style=\"white-space:pre;overflow-x:auto;line-height:normal;font-family:Menlo,'DejaVu Sans Mono',consolas,'Courier New',monospace\"><span style=\"font-weight: bold\"> Total params: </span><span style=\"color: #00af00; text-decoration-color: #00af00\">7,400,223</span> (28.23 MB)\n",
              "</pre>\n"
            ]
          },
          "metadata": {}
        },
        {
          "output_type": "display_data",
          "data": {
            "text/plain": [
              "\u001b[1m Trainable params: \u001b[0m\u001b[38;5;34m7,400,223\u001b[0m (28.23 MB)\n"
            ],
            "text/html": [
              "<pre style=\"white-space:pre;overflow-x:auto;line-height:normal;font-family:Menlo,'DejaVu Sans Mono',consolas,'Courier New',monospace\"><span style=\"font-weight: bold\"> Trainable params: </span><span style=\"color: #00af00; text-decoration-color: #00af00\">7,400,223</span> (28.23 MB)\n",
              "</pre>\n"
            ]
          },
          "metadata": {}
        },
        {
          "output_type": "display_data",
          "data": {
            "text/plain": [
              "\u001b[1m Non-trainable params: \u001b[0m\u001b[38;5;34m0\u001b[0m (0.00 B)\n"
            ],
            "text/html": [
              "<pre style=\"white-space:pre;overflow-x:auto;line-height:normal;font-family:Menlo,'DejaVu Sans Mono',consolas,'Courier New',monospace\"><span style=\"font-weight: bold\"> Non-trainable params: </span><span style=\"color: #00af00; text-decoration-color: #00af00\">0</span> (0.00 B)\n",
              "</pre>\n"
            ]
          },
          "metadata": {}
        }
      ],
      "source": [
        "# view model architecture\n",
        "cnn_model.summary()"
      ]
    },
    {
      "cell_type": "code",
      "execution_count": null,
      "metadata": {
        "colab": {
          "base_uri": "https://localhost:8080/"
        },
        "id": "7n3LFWNX0oJ2",
        "outputId": "55fd580a-14f2-4627-8625-c04c3f916ecc"
      },
      "outputs": [
        {
          "output_type": "stream",
          "name": "stderr",
          "text": [
            "/usr/local/lib/python3.11/dist-packages/keras/src/trainers/data_adapters/py_dataset_adapter.py:121: UserWarning: Your `PyDataset` class should call `super().__init__(**kwargs)` in its constructor. `**kwargs` can include `workers`, `use_multiprocessing`, `max_queue_size`. Do not pass these arguments to `fit()`, as they will be ignored.\n",
            "  self._warn_if_super_not_called()\n"
          ]
        },
        {
          "output_type": "stream",
          "name": "stdout",
          "text": [
            "Epoch 1/10\n",
            "\u001b[1m121/121\u001b[0m \u001b[32m━━━━━━━━━━━━━━━━━━━━\u001b[0m\u001b[37m\u001b[0m \u001b[1m972s\u001b[0m 8s/step - accuracy: 0.4942 - loss: 1.9834 - val_accuracy: 0.9497 - val_loss: 0.2137\n",
            "Epoch 2/10\n",
            "\u001b[1m121/121\u001b[0m \u001b[32m━━━━━━━━━━━━━━━━━━━━\u001b[0m\u001b[37m\u001b[0m \u001b[1m878s\u001b[0m 7s/step - accuracy: 0.9682 - loss: 0.1201 - val_accuracy: 0.9826 - val_loss: 0.0758\n",
            "Epoch 3/10\n",
            "\u001b[1m121/121\u001b[0m \u001b[32m━━━━━━━━━━━━━━━━━━━━\u001b[0m\u001b[37m\u001b[0m \u001b[1m806s\u001b[0m 7s/step - accuracy: 0.9855 - loss: 0.0771 - val_accuracy: 0.9878 - val_loss: 0.0472\n",
            "Epoch 4/10\n",
            "\u001b[1m121/121\u001b[0m \u001b[32m━━━━━━━━━━━━━━━━━━━━\u001b[0m\u001b[37m\u001b[0m \u001b[1m862s\u001b[0m 7s/step - accuracy: 0.9786 - loss: 0.1118 - val_accuracy: 0.9931 - val_loss: 0.0367\n",
            "Epoch 5/10\n",
            "\u001b[1m121/121\u001b[0m \u001b[32m━━━━━━━━━━━━━━━━━━━━\u001b[0m\u001b[37m\u001b[0m \u001b[1m802s\u001b[0m 7s/step - accuracy: 0.9884 - loss: 0.0491 - val_accuracy: 0.9965 - val_loss: 0.0154\n",
            "Epoch 6/10\n",
            "\u001b[1m121/121\u001b[0m \u001b[32m━━━━━━━━━━━━━━━━━━━━\u001b[0m\u001b[37m\u001b[0m \u001b[1m801s\u001b[0m 7s/step - accuracy: 0.9892 - loss: 0.0497 - val_accuracy: 0.9931 - val_loss: 0.0260\n",
            "Epoch 7/10\n",
            "\u001b[1m121/121\u001b[0m \u001b[32m━━━━━━━━━━━━━━━━━━━━\u001b[0m\u001b[37m\u001b[0m \u001b[1m862s\u001b[0m 7s/step - accuracy: 0.9928 - loss: 0.0282 - val_accuracy: 1.0000 - val_loss: 0.0108\n",
            "Epoch 8/10\n",
            "\u001b[1m121/121\u001b[0m \u001b[32m━━━━━━━━━━━━━━━━━━━━\u001b[0m\u001b[37m\u001b[0m \u001b[1m787s\u001b[0m 7s/step - accuracy: 0.9908 - loss: 0.0290 - val_accuracy: 0.9965 - val_loss: 0.0093\n",
            "Epoch 9/10\n",
            "\u001b[1m121/121\u001b[0m \u001b[32m━━━━━━━━━━━━━━━━━━━━\u001b[0m\u001b[37m\u001b[0m \u001b[1m847s\u001b[0m 7s/step - accuracy: 0.9947 - loss: 0.0224 - val_accuracy: 0.9983 - val_loss: 0.0090\n",
            "Epoch 10/10\n",
            "\u001b[1m117/121\u001b[0m \u001b[32m━━━━━━━━━━━━━━━━━━━\u001b[0m\u001b[37m━\u001b[0m \u001b[1m27s\u001b[0m 7s/step - accuracy: 0.9967 - loss: 0.0133"
          ]
        },
        {
          "output_type": "stream",
          "name": "stderr",
          "text": [
            "/usr/local/lib/python3.11/dist-packages/keras/src/trainers/epoch_iterator.py:107: UserWarning: Your input ran out of data; interrupting training. Make sure that your dataset or generator can generate at least `steps_per_epoch * epochs` batches. You may need to use the `.repeat()` function when building your dataset.\n",
            "  self._interrupted_warning()\n"
          ]
        },
        {
          "output_type": "stream",
          "name": "stdout",
          "text": [
            "\b\b\b\b\b\b\b\b\b\b\b\b\b\b\b\b\b\b\b\b\b\b\b\b\b\b\b\b\b\b\b\b\b\b\b\b\b\b\b\b\b\b\b\b\b\b\b\b\b\b\b\b\b\b\b\b\b\b\b\b\b\b\b\b\b\b\b\b\b\b\b\b\b\b\r\u001b[1m121/121\u001b[0m \u001b[32m━━━━━━━━━━━━━━━━━━━━\u001b[0m\u001b[37m\u001b[0m \u001b[1m862s\u001b[0m 7s/step - accuracy: 0.9967 - loss: 0.0132 - val_accuracy: 0.9983 - val_loss: 0.0044\n"
          ]
        }
      ],
      "source": [
        "refit = False\n",
        "model_filename = '../cnn_scratch_subcats_all_resampled.keras'\n",
        "mapping_filename = '../cnn_scratch_subcats_all_mapping.csv'\n",
        "\n",
        "if refit:\n",
        "\n",
        "  mapping_filename_df = pd.DataFrame({'name': unique_labels, 'label': list(range(len(unique_labels)))})\n",
        "  mapping_filename_df.to_csv(mapping_filename)\n",
        "\n",
        "  cnn_fit = cnn_model.fit(\n",
        "      train_generator,\n",
        "      steps_per_epoch = (int(x_train.shape[0] // batch_size)//10 + 1),\n",
        "      # steps_per_epoch = 10,\n",
        "      epochs = 10,\n",
        "      verbose = 1,\n",
        "      validation_data = validation_generator,\n",
        "      validation_steps = int(x_val.shape[0] // batch_size)//10 + 1\n",
        "      # validation_steps = 3\n",
        "  )\n",
        "\n",
        "  try:\n",
        "    cnn_model.save(model_filename)\n",
        "  except Exception as e:\n",
        "    print(e)\n",
        "else:\n",
        "  cnn_model = tf.keras.models.load_model(model_filename)"
      ]
    },
    {
      "cell_type": "code",
      "execution_count": null,
      "metadata": {
        "colab": {
          "base_uri": "https://localhost:8080/"
        },
        "id": "tkw76jZoDjyN",
        "outputId": "b78146d0-5126-41e9-904f-5b5f473a8cee"
      },
      "outputs": [
        {
          "output_type": "stream",
          "name": "stdout",
          "text": [
            "\u001b[1m345/345\u001b[0m \u001b[32m━━━━━━━━━━━━━━━━━━━━\u001b[0m\u001b[37m\u001b[0m \u001b[1m2345s\u001b[0m 7s/step\n"
          ]
        }
      ],
      "source": [
        "model_predict = cnn_model.predict(\n",
        "    test_generator,\n",
        ")"
      ]
    },
    {
      "cell_type": "code",
      "execution_count": null,
      "metadata": {
        "colab": {
          "base_uri": "https://localhost:8080/"
        },
        "id": "YS2AsSeAVTYH",
        "outputId": "794e3729-a941-44cb-fdfe-57fb48b675d6"
      },
      "outputs": [
        {
          "output_type": "execute_result",
          "data": {
            "text/plain": [
              "array([[3.54409408e-08, 2.54107100e-08, 2.04581934e-08, ...,\n",
              "        3.21439393e-06, 9.47190060e-09, 1.07542284e-04],\n",
              "       [7.64802392e-13, 1.47358459e-09, 1.35335831e-11, ...,\n",
              "        3.32854810e-13, 2.84752598e-16, 1.66672685e-08],\n",
              "       [1.96284964e-13, 3.35423955e-09, 3.23381933e-15, ...,\n",
              "        9.68869828e-14, 1.95389003e-08, 4.15041068e-09],\n",
              "       ...,\n",
              "       [1.43915587e-12, 3.33883413e-14, 5.86447418e-11, ...,\n",
              "        1.17459764e-09, 8.69923654e-13, 4.63223091e-15],\n",
              "       [2.92737043e-22, 5.88681126e-19, 2.72854960e-20, ...,\n",
              "        2.01735150e-16, 5.02045745e-16, 1.15122674e-13],\n",
              "       [2.31218582e-12, 1.35349293e-11, 1.31729827e-08, ...,\n",
              "        3.29570270e-07, 2.00378386e-12, 8.71962990e-15]], dtype=float32)"
            ]
          },
          "metadata": {},
          "execution_count": 21
        }
      ],
      "source": [
        "model_predict"
      ]
    },
    {
      "cell_type": "code",
      "execution_count": null,
      "metadata": {
        "colab": {
          "base_uri": "https://localhost:8080/"
        },
        "id": "c1dy3nHPYfIK",
        "outputId": "0441a6f9-c204-49f0-fac7-a923f311aab5"
      },
      "outputs": [
        {
          "output_type": "execute_result",
          "data": {
            "text/plain": [
              "{np.int64(0),\n",
              " np.int64(1),\n",
              " np.int64(2),\n",
              " np.int64(3),\n",
              " np.int64(4),\n",
              " np.int64(5),\n",
              " np.int64(6),\n",
              " np.int64(7),\n",
              " np.int64(8),\n",
              " np.int64(9),\n",
              " np.int64(10),\n",
              " np.int64(11),\n",
              " np.int64(12),\n",
              " np.int64(13),\n",
              " np.int64(14),\n",
              " np.int64(15),\n",
              " np.int64(16),\n",
              " np.int64(17),\n",
              " np.int64(18),\n",
              " np.int64(19),\n",
              " np.int64(20),\n",
              " np.int64(21),\n",
              " np.int64(22),\n",
              " np.int64(23),\n",
              " np.int64(24),\n",
              " np.int64(25),\n",
              " np.int64(26),\n",
              " np.int64(27),\n",
              " np.int64(28),\n",
              " np.int64(29),\n",
              " np.int64(30)}"
            ]
          },
          "metadata": {},
          "execution_count": 22
        }
      ],
      "source": [
        "labels_predict = np.argmax(model_predict, axis=1)\n",
        "labels_predict.shape\n",
        "\n",
        "set(list(labels_predict))"
      ]
    },
    {
      "cell_type": "code",
      "execution_count": null,
      "metadata": {
        "colab": {
          "base_uri": "https://localhost:8080/",
          "height": 467
        },
        "id": "d0rfYb7zayHJ",
        "outputId": "b28065c5-b61b-4d3e-d345-bf67b5bff980"
      },
      "outputs": [
        {
          "output_type": "execute_result",
          "data": {
            "text/plain": [
              "<sklearn.metrics._plot.confusion_matrix.ConfusionMatrixDisplay at 0x7e60b0169450>"
            ]
          },
          "metadata": {},
          "execution_count": 23
        },
        {
          "output_type": "display_data",
          "data": {
            "text/plain": [
              "<Figure size 640x480 with 2 Axes>"
            ],
            "image/png": "[encoded data removed]"
          },
          "metadata": {}
        }
      ],
      "source": [
        "# plot confusion matrix\n",
        "plt.figure(figsize = (12,12))\n",
        "metrics.ConfusionMatrixDisplay.from_predictions(y_test, labels_predict, cmap = \"GnBu\")"
      ]
    },
    {
      "cell_type": "code",
      "execution_count": null,
      "metadata": {
        "colab": {
          "base_uri": "https://localhost:8080/"
        },
        "id": "GWuOKLqHcQ1w",
        "outputId": "8c73f260-dc00-47ec-b2a7-a961e56138a4"
      },
      "outputs": [
        {
          "output_type": "stream",
          "name": "stdout",
          "text": [
            "accuracy: 0.996370565284457\n"
          ]
        }
      ],
      "source": [
        "# (true positive + true negative)/total\n",
        "accuracy = sklearn.metrics.accuracy_score(y_test, labels_predict)\n",
        "print(\"accuracy: \" + str(accuracy))"
      ]
    },
    {
      "cell_type": "code",
      "execution_count": null,
      "metadata": {
        "colab": {
          "base_uri": "https://localhost:8080/"
        },
        "id": "3N_g4fdZcSUl",
        "outputId": "1b4bcf19-96ad-467c-fc4d-0eaa38cde928"
      },
      "outputs": [
        {
          "output_type": "execute_result",
          "data": {
            "text/plain": [
              "<matplotlib.legend.Legend at 0x7e60aad41750>"
            ]
          },
          "metadata": {},
          "execution_count": 25
        },
        {
          "output_type": "display_data",
          "data": {
            "text/plain": [
              "<Figure size 640x480 with 1 Axes>"
            ],
            "image/png": "[encoded data removed]"
          },
          "metadata": {}
        }
      ],
      "source": [
        "# plot accuracy across epochs\n",
        "plt.plot(cnn_fit.history['accuracy'], label='accuracy')\n",
        "plt.plot(cnn_fit.history['val_accuracy'], label = 'val_accuracy')\n",
        "plt.xlabel('Epoch')\n",
        "plt.ylabel('Accuracy')\n",
        "plt.ylim([0, 1])\n",
        "plt.legend(loc='lower right')"
      ]
    },
    {
      "cell_type": "code",
      "execution_count": null,
      "metadata": {
        "id": "i9dtdeVRIP5_"
      },
      "outputs": [],
      "source": []
    }
  ],
  "metadata": {
    "colab": {
      "provenance": []
    },
    "kernelspec": {
      "display_name": "Python 3",
      "name": "python3"
    },
    "language_info": {
      "name": "python"
    }
  },
  "nbformat": 4,
  "nbformat_minor": 0
}