{
  "cells": [
    {
      "cell_type": "markdown",
      "metadata": {
        "id": "0UPgqgOzprHH"
      },
      "source": [
        "# **UK Street Sign Computer Vision Project**\n",
        "\n",
        "This notebook comprises of the code needed to create a convolutional neural network for the purpose of creating a computer vision model that can predict the a picture of a UK street sign from one of the 31 pre-defined classes a sign can take in our dataset:\n",
        "\n",
        "* A\n",
        "* B\n",
        "* ...\n",
        "\n",
        "Data derived from https://zenodo.org/records/7831751"
      ]
    },
    {
      "cell_type": "markdown",
      "metadata": {
        "id": "cu3V9a9qqvw7"
      },
      "source": [
        "# Import Necessary Libraries and Read in Data\n"
      ]
    },
    {
      "cell_type": "code",
      "execution_count": null,
      "metadata": {
        "colab": {
          "base_uri": "https://localhost:8080/"
        },
        "id": "M7xf74ItpmVx",
        "outputId": "61c5ebe4-fad6-48fc-b381-da45d461ad4e"
      },
      "outputs": [
        {
          "output_type": "stream",
          "name": "stdout",
          "text": [
            "Mounted at /drive\n",
            "/drive/Shareddrives/STAT654_Project\n"
          ]
        }
      ],
      "source": [
        "from google.colab import drive\n",
        "drive.mount('/drive')\n",
        "%cd \"/drive/Shareddrives/STAT654_Project\""
      ]
    },
    {
      "cell_type": "code",
      "execution_count": null,
      "metadata": {
        "id": "wRB_fMEkqzh1"
      },
      "outputs": [],
      "source": [
        "\n",
        "# import os\n",
        "# import cv2\n",
        "# import numpy as np\n",
        "# import matplotlib.pyplot as plt\n",
        "\n",
        "# import sklearn.linear_model\n",
        "# from sklearn.model_selection import train_test_split\n",
        "# from sklearn import metrics\n",
        "# import tensorflow.keras as keras\n",
        "# import tensorflow as tf\n",
        "# from tensorflow.keras import datasets, layers, models\n",
        "# import random\n",
        "\n",
        "# from google.colab.patches import cv2_imshow\n",
        "\n",
        "# Import DS Python Libraries\n",
        "import matplotlib.pyplot as plt\n",
        "import matplotlib.image as mpimg\n",
        "import numpy as np\n",
        "from sklearn.model_selection import train_test_split\n",
        "from sklearn import metrics\n",
        "from sklearn.metrics import classification_report\n",
        "\n",
        "# Import CNN Tools\n",
        "from tensorflow import keras\n",
        "import tensorflow as tf\n",
        "from tensorflow.keras.preprocessing.image import ImageDataGenerator\n",
        "from tensorflow.keras.preprocessing import image as image_utils\n",
        "from tensorflow.keras.applications.imagenet_utils import preprocess_input\n",
        "from tensorflow.keras.callbacks import EarlyStopping, ReduceLROnPlateau, ModelCheckpoint"
      ]
    },
    {
      "cell_type": "code",
      "source": [
        "print(\"Num GPUs Available:\", len(tf.config.list_physical_devices('GPU')))"
      ],
      "metadata": {
        "colab": {
          "base_uri": "https://localhost:8080/"
        },
        "id": "Mu0wmVI60IQi",
        "outputId": "9412fbd9-54f7-43a5-bcba-3aa23b0064b4"
      },
      "execution_count": null,
      "outputs": [
        {
          "output_type": "stream",
          "name": "stdout",
          "text": [
            "Num GPUs Available: 1\n"
          ]
        }
      ]
    },
    {
      "cell_type": "markdown",
      "metadata": {
        "id": "oG7H0U7Ns3h9"
      },
      "source": [
        "## Get Image Data\n",
        "\n",
        "We will read in our image data and will create a 80-20% train-validation split of data."
      ]
    },
    {
      "cell_type": "markdown",
      "metadata": {
        "id": "z9TA3KLotdZb"
      },
      "source": [
        "### Data Augmentation\n",
        "\n",
        "Data augmentation creates \"more data\" for the model to train on. Our augmenter takes our existing data and applies transformations to it that the model can learn from since CNNs take their training too literally otherwise. Of course, it only makes sense to augment data in ways that the model would realistically see data (e.g., street signs should not be upside down or flipped horizontally)."
      ]
    },
    {
      "cell_type": "code",
      "execution_count": null,
      "metadata": {
        "id": "DtLiPXC6tc7H"
      },
      "outputs": [],
      "source": [
        "# Making the data generator for the training data\n",
        "datagen_train = ImageDataGenerator(\n",
        "    samplewise_center = True,  # set each sample mean to 0\n",
        "    rotation_range = 10,  # randomly rotate images in the range (degrees, 0 to 180)\n",
        "    horizontal_flip = False,  # randomly flip images\n",
        "    vertical_flip = False,\n",
        "    validation_split = 0.2 # Holdout some for validation tuning and the rest for testing\n",
        ")\n",
        "\n",
        "# We don't augment our validation data since it's not being learned in our model\n",
        "datagen_valid = ImageDataGenerator(\n",
        "    samplewise_center = True,\n",
        "    validation_split = 0.2\n",
        ")"
      ]
    },
    {
      "cell_type": "markdown",
      "metadata": {
        "id": "a5Ew0-89wAqn"
      },
      "source": [
        "### Data Preparation"
      ]
    },
    {
      "cell_type": "code",
      "execution_count": null,
      "metadata": {
        "colab": {
          "base_uri": "https://localhost:8080/"
        },
        "id": "16_1CFEDwFa8",
        "outputId": "e3a1320f-bc69-4f32-8d80-4a317c6c96f8"
      },
      "outputs": [
        {
          "output_type": "stream",
          "name": "stdout",
          "text": [
            "Found 44092 images belonging to 31 classes.\n",
            "Found 11008 images belonging to 31 classes.\n"
          ]
        }
      ],
      "source": [
        "# Get data from the directory\n",
        "data_dir = \"./streetsign_data/\"\n",
        "set_seed = 22\n",
        "batch_size = 32\n",
        "target_size = (128, 128)\n",
        "\n",
        "# Training data generator\n",
        "train_generator = datagen_train.flow_from_directory(\n",
        "    data_dir,\n",
        "    target_size = target_size,\n",
        "    batch_size = batch_size,\n",
        "    class_mode = \"categorical\",\n",
        "    subset = \"training\",\n",
        "    seed = set_seed,\n",
        "    shuffle = True\n",
        ")\n",
        "\n",
        "# Validation data generator\n",
        "valid_generator = datagen_valid.flow_from_directory(\n",
        "    data_dir,\n",
        "    target_size = target_size,\n",
        "    batch_size = batch_size,\n",
        "    class_mode = \"categorical\",\n",
        "    subset = \"validation\",\n",
        "    seed = set_seed,\n",
        "    shuffle = False # Keep order\n",
        ")"
      ]
    },
    {
      "cell_type": "code",
      "execution_count": null,
      "metadata": {
        "id": "otf49JnD4ZDM",
        "cellView": "form"
      },
      "outputs": [],
      "source": [
        "# @title\n",
        "# # Get all batches from valid_test_generator\n",
        "# x_val_test = []\n",
        "# y_val_test = []\n",
        "\n",
        "# for i in range(len(valid_test_generator)):\n",
        "#     x_batch, y_batch = valid_test_generator[i]\n",
        "#     x_val_test.append(x_batch)\n",
        "#     y_val_test.append(y_batch)\n",
        "\n",
        "# # Concatenate to get full validation data\n",
        "# x_val_test = np.concatenate(x_val_test)\n",
        "# y_val_test = np.concatenate(y_val_test)"
      ]
    },
    {
      "cell_type": "code",
      "execution_count": null,
      "metadata": {
        "id": "F9IGOOQr4ZJI",
        "cellView": "form"
      },
      "outputs": [],
      "source": [
        "# @title\n",
        "# # Split into validation and test sets\n",
        "# x_val, x_test, y_val, y_test = train_test_split(\n",
        "#     x_val_test, y_val_test,\n",
        "#     test_size = 0.5,  # 10% validation, 10% test\n",
        "#     random_state = set_seed,\n",
        "#     stratify = np.argmax(y_val_test, axis = 1)  # if labels are one-hot encoded to stratify classes\n",
        "# )"
      ]
    },
    {
      "cell_type": "code",
      "execution_count": null,
      "metadata": {
        "cellView": "form",
        "id": "1D8NgiIzJbYU"
      },
      "outputs": [],
      "source": [
        "# @title\n",
        "# # Create test split from the validation generator batches\n",
        "\n",
        "# val_test_split = 0.4\n",
        "\n",
        "# val_datagen = ImageDataGenerator(\n",
        "#     rescale=1./255,\n",
        "#     validation_split=val_test_split\n",
        "# )\n",
        "\n",
        "# val_generator = datagen_valid.flow_from_directory(\n",
        "#     data_dir,\n",
        "#     target_size=(256, 256),\n",
        "#     batch_size=batch_size,\n",
        "#     class_mode='categorical',\n",
        "#     subset='training',   # 60% for validation\n",
        "#     shuffle=False,\n",
        "#     seed=set_seed\n",
        "# )\n",
        "\n",
        "# test_generator = datagen_valid.flow_from_directory(\n",
        "#     data_dir,\n",
        "#     target_size=(256, 256),\n",
        "#     batch_size=batch_size,\n",
        "#     class_mode='categorical',\n",
        "#     subset='validation',  # 40% for testing\n",
        "#     shuffle=False,\n",
        "#     seed=set_seed\n",
        "# )\n",
        "\n",
        "# ### Load all validation data into memory\n",
        "# x_val_test, y_val_test = next(val_generator_full) # iterative objects\n",
        "# for _ in range(1, len(val_generator_full)): # iterate\n",
        "#     if _ % 500 == 0:\n",
        "#       print(_)\n",
        "#     x_batch, y_batch = next(val_generator_full)\n",
        "#     x_val_test = np.concatenate((x_val_test, x_batch))\n",
        "#     y_val_test = np.concatenate((y_val_test, y_batch))\n",
        "\n",
        "# ### Manually split into validation and test data\n",
        "# x_val, x_test, y_val, y_test = train_test_split(\n",
        "#     x_val_test, y_val_test, test_size = 0.4, random_state = set_seed,\n",
        "#     stratify = y_val_test.argmax(axis = 1) # stratify by class\n",
        "# )\n",
        "\n",
        "# ### Make generators for validation and test splits\n",
        "# val_generator = ImageDataGenerator(samplewise_center = True).flow(\n",
        "#     x_val, y_val, batch_size=batch_size, shuffle = False\n",
        "# )\n",
        "\n",
        "# test_generator = ImageDataGenerator(samplewise_center = True).flow(\n",
        "#     x_test, y_test, batch_size = batch_size, shuffle = False\n",
        "# )"
      ]
    },
    {
      "cell_type": "code",
      "execution_count": null,
      "metadata": {
        "cellView": "form",
        "id": "Gm6LM8E18sru"
      },
      "outputs": [],
      "source": [
        "# @title\n",
        "### Old, does not work well for making a test split\n",
        "# train_data = tf.keras.utils.image_dataset_from_directory(\n",
        "#   data_dir,\n",
        "#   validation_split = 0.2,\n",
        "#   subset = \"training\",\n",
        "#   seed = set_seed,\n",
        "#   image_size = (256, 256),\n",
        "#   batch_size = batch_size\n",
        "# )\n",
        "\n",
        "# valid_data = tf.keras.utils.image_dataset_from_directory(\n",
        "#   data_dir,\n",
        "#   validation_split = 0.2,\n",
        "#   subset = \"validation\",\n",
        "#   seed = set_seed,\n",
        "#   image_size = (256, 256),\n",
        "#   batch_size = batch_size\n",
        "# )\n",
        "\n",
        "# # Takes 5 batches from the validation set to use as a test dataset\n",
        "# test_data = valid_data.take(5) # 5 batches with batch_size = 32 means this is 160 images\n",
        "# # Removes those same 5 batches from the validation set to avoid using in tuning\n",
        "# valid_data = valid_data.skip(5)"
      ]
    },
    {
      "cell_type": "code",
      "execution_count": null,
      "metadata": {
        "id": "WRn26jZQAqcY"
      },
      "outputs": [],
      "source": [
        "# # Save all generators into 1 dictionary to dump into a file\n",
        "# data_generators = {\n",
        "#     \"train\": train_generator,\n",
        "#     \"valid\": valid_generator\n",
        "# }\n",
        "\n",
        "# # Pickle this data to avoid running the long cell that makes the train-valid-test generators\n",
        "# import pickle\n",
        "# with open('train_valid_generators.pkl', 'wb') as file:\n",
        "#     pickle.dump(data_generators, file)"
      ]
    },
    {
      "cell_type": "markdown",
      "metadata": {
        "id": "aoqauj5Gs6RV"
      },
      "source": [
        "# CNN Model"
      ]
    },
    {
      "cell_type": "markdown",
      "metadata": {
        "id": "gIRRa0FfA5W4"
      },
      "source": [
        "## Prepare the Data Generators"
      ]
    },
    {
      "cell_type": "code",
      "execution_count": null,
      "metadata": {
        "id": "_uLT1AZEA9Wy"
      },
      "outputs": [],
      "source": [
        "# # Read the pickled data generators\n",
        "# with open('train_valid_generators.pkl', 'rb') as file:\n",
        "#     data_generators = pickle.load(file)\n",
        "\n",
        "# train_generator = data_generators[\"train\"]\n",
        "# valid_generator = data_generators[\"valid\"]\n",
        "# #test_generator = data_generators[\"test\"]"
      ]
    },
    {
      "cell_type": "code",
      "execution_count": null,
      "metadata": {
        "id": "ceqelJmQ-OUx"
      },
      "outputs": [],
      "source": [
        "# Image dimensions setup\n",
        "image_dim = (128, 128, 3)\n",
        "num_classes = 31"
      ]
    },
    {
      "cell_type": "markdown",
      "metadata": {
        "id": "2F-ihta3_rxn"
      },
      "source": [
        "## Create the Model Architecture"
      ]
    },
    {
      "cell_type": "code",
      "execution_count": null,
      "metadata": {
        "colab": {
          "base_uri": "https://localhost:8080/",
          "height": 337
        },
        "id": "WtGMbU3Fs8rh",
        "outputId": "213c7cd4-1335-4ee3-c58c-463343f76e66"
      },
      "outputs": [
        {
          "output_type": "display_data",
          "data": {
            "text/plain": [
              "\u001b[1mModel: \"functional_1\"\u001b[0m\n"
            ],
            "text/html": [
              "<pre style=\"white-space:pre;overflow-x:auto;line-height:normal;font-family:Menlo,'DejaVu Sans Mono',consolas,'Courier New',monospace\"><span style=\"font-weight: bold\">Model: \"functional_1\"</span>\n",
              "</pre>\n"
            ]
          },
          "metadata": {}
        },
        {
          "output_type": "display_data",
          "data": {
            "text/plain": [
              "┏━━━━━━━━━━━━━━━━━━━━━━━━━━━━━━━━━┳━━━━━━━━━━━━━━━━━━━━━━━━┳━━━━━━━━━━━━━━━┓\n",
              "┃\u001b[1m \u001b[0m\u001b[1mLayer (type)                   \u001b[0m\u001b[1m \u001b[0m┃\u001b[1m \u001b[0m\u001b[1mOutput Shape          \u001b[0m\u001b[1m \u001b[0m┃\u001b[1m \u001b[0m\u001b[1m      Param #\u001b[0m\u001b[1m \u001b[0m┃\n",
              "┡━━━━━━━━━━━━━━━━━━━━━━━━━━━━━━━━━╇━━━━━━━━━━━━━━━━━━━━━━━━╇━━━━━━━━━━━━━━━┩\n",
              "│ input_layer_5 (\u001b[38;5;33mInputLayer\u001b[0m)      │ (\u001b[38;5;45mNone\u001b[0m, \u001b[38;5;34m128\u001b[0m, \u001b[38;5;34m128\u001b[0m, \u001b[38;5;34m3\u001b[0m)    │             \u001b[38;5;34m0\u001b[0m │\n",
              "├─────────────────────────────────┼────────────────────────┼───────────────┤\n",
              "│ resnet50 (\u001b[38;5;33mFunctional\u001b[0m)           │ (\u001b[38;5;45mNone\u001b[0m, \u001b[38;5;34m4\u001b[0m, \u001b[38;5;34m4\u001b[0m, \u001b[38;5;34m2048\u001b[0m)     │    \u001b[38;5;34m23,587,712\u001b[0m │\n",
              "├─────────────────────────────────┼────────────────────────┼───────────────┤\n",
              "│ global_average_pooling2d_2      │ (\u001b[38;5;45mNone\u001b[0m, \u001b[38;5;34m2048\u001b[0m)           │             \u001b[38;5;34m0\u001b[0m │\n",
              "│ (\u001b[38;5;33mGlobalAveragePooling2D\u001b[0m)        │                        │               │\n",
              "├─────────────────────────────────┼────────────────────────┼───────────────┤\n",
              "│ dense_4 (\u001b[38;5;33mDense\u001b[0m)                 │ (\u001b[38;5;45mNone\u001b[0m, \u001b[38;5;34m256\u001b[0m)            │       \u001b[38;5;34m524,544\u001b[0m │\n",
              "├─────────────────────────────────┼────────────────────────┼───────────────┤\n",
              "│ dropout_2 (\u001b[38;5;33mDropout\u001b[0m)             │ (\u001b[38;5;45mNone\u001b[0m, \u001b[38;5;34m256\u001b[0m)            │             \u001b[38;5;34m0\u001b[0m │\n",
              "├─────────────────────────────────┼────────────────────────┼───────────────┤\n",
              "│ dense_5 (\u001b[38;5;33mDense\u001b[0m)                 │ (\u001b[38;5;45mNone\u001b[0m, \u001b[38;5;34m31\u001b[0m)             │         \u001b[38;5;34m7,967\u001b[0m │\n",
              "└─────────────────────────────────┴────────────────────────┴───────────────┘\n"
            ],
            "text/html": [
              "<pre style=\"white-space:pre;overflow-x:auto;line-height:normal;font-family:Menlo,'DejaVu Sans Mono',consolas,'Courier New',monospace\">┏━━━━━━━━━━━━━━━━━━━━━━━━━━━━━━━━━┳━━━━━━━━━━━━━━━━━━━━━━━━┳━━━━━━━━━━━━━━━┓\n",
              "┃<span style=\"font-weight: bold\"> Layer (type)                    </span>┃<span style=\"font-weight: bold\"> Output Shape           </span>┃<span style=\"font-weight: bold\">       Param # </span>┃\n",
              "┡━━━━━━━━━━━━━━━━━━━━━━━━━━━━━━━━━╇━━━━━━━━━━━━━━━━━━━━━━━━╇━━━━━━━━━━━━━━━┩\n",
              "│ input_layer_5 (<span style=\"color: #0087ff; text-decoration-color: #0087ff\">InputLayer</span>)      │ (<span style=\"color: #00d7ff; text-decoration-color: #00d7ff\">None</span>, <span style=\"color: #00af00; text-decoration-color: #00af00\">128</span>, <span style=\"color: #00af00; text-decoration-color: #00af00\">128</span>, <span style=\"color: #00af00; text-decoration-color: #00af00\">3</span>)    │             <span style=\"color: #00af00; text-decoration-color: #00af00\">0</span> │\n",
              "├─────────────────────────────────┼────────────────────────┼───────────────┤\n",
              "│ resnet50 (<span style=\"color: #0087ff; text-decoration-color: #0087ff\">Functional</span>)           │ (<span style=\"color: #00d7ff; text-decoration-color: #00d7ff\">None</span>, <span style=\"color: #00af00; text-decoration-color: #00af00\">4</span>, <span style=\"color: #00af00; text-decoration-color: #00af00\">4</span>, <span style=\"color: #00af00; text-decoration-color: #00af00\">2048</span>)     │    <span style=\"color: #00af00; text-decoration-color: #00af00\">23,587,712</span> │\n",
              "├─────────────────────────────────┼────────────────────────┼───────────────┤\n",
              "│ global_average_pooling2d_2      │ (<span style=\"color: #00d7ff; text-decoration-color: #00d7ff\">None</span>, <span style=\"color: #00af00; text-decoration-color: #00af00\">2048</span>)           │             <span style=\"color: #00af00; text-decoration-color: #00af00\">0</span> │\n",
              "│ (<span style=\"color: #0087ff; text-decoration-color: #0087ff\">GlobalAveragePooling2D</span>)        │                        │               │\n",
              "├─────────────────────────────────┼────────────────────────┼───────────────┤\n",
              "│ dense_4 (<span style=\"color: #0087ff; text-decoration-color: #0087ff\">Dense</span>)                 │ (<span style=\"color: #00d7ff; text-decoration-color: #00d7ff\">None</span>, <span style=\"color: #00af00; text-decoration-color: #00af00\">256</span>)            │       <span style=\"color: #00af00; text-decoration-color: #00af00\">524,544</span> │\n",
              "├─────────────────────────────────┼────────────────────────┼───────────────┤\n",
              "│ dropout_2 (<span style=\"color: #0087ff; text-decoration-color: #0087ff\">Dropout</span>)             │ (<span style=\"color: #00d7ff; text-decoration-color: #00d7ff\">None</span>, <span style=\"color: #00af00; text-decoration-color: #00af00\">256</span>)            │             <span style=\"color: #00af00; text-decoration-color: #00af00\">0</span> │\n",
              "├─────────────────────────────────┼────────────────────────┼───────────────┤\n",
              "│ dense_5 (<span style=\"color: #0087ff; text-decoration-color: #0087ff\">Dense</span>)                 │ (<span style=\"color: #00d7ff; text-decoration-color: #00d7ff\">None</span>, <span style=\"color: #00af00; text-decoration-color: #00af00\">31</span>)             │         <span style=\"color: #00af00; text-decoration-color: #00af00\">7,967</span> │\n",
              "└─────────────────────────────────┴────────────────────────┴───────────────┘\n",
              "</pre>\n"
            ]
          },
          "metadata": {}
        },
        {
          "output_type": "display_data",
          "data": {
            "text/plain": [
              "\u001b[1m Total params: \u001b[0m\u001b[38;5;34m24,120,223\u001b[0m (92.01 MB)\n"
            ],
            "text/html": [
              "<pre style=\"white-space:pre;overflow-x:auto;line-height:normal;font-family:Menlo,'DejaVu Sans Mono',consolas,'Courier New',monospace\"><span style=\"font-weight: bold\"> Total params: </span><span style=\"color: #00af00; text-decoration-color: #00af00\">24,120,223</span> (92.01 MB)\n",
              "</pre>\n"
            ]
          },
          "metadata": {}
        },
        {
          "output_type": "display_data",
          "data": {
            "text/plain": [
              "\u001b[1m Trainable params: \u001b[0m\u001b[38;5;34m532,511\u001b[0m (2.03 MB)\n"
            ],
            "text/html": [
              "<pre style=\"white-space:pre;overflow-x:auto;line-height:normal;font-family:Menlo,'DejaVu Sans Mono',consolas,'Courier New',monospace\"><span style=\"font-weight: bold\"> Trainable params: </span><span style=\"color: #00af00; text-decoration-color: #00af00\">532,511</span> (2.03 MB)\n",
              "</pre>\n"
            ]
          },
          "metadata": {}
        },
        {
          "output_type": "display_data",
          "data": {
            "text/plain": [
              "\u001b[1m Non-trainable params: \u001b[0m\u001b[38;5;34m23,587,712\u001b[0m (89.98 MB)\n"
            ],
            "text/html": [
              "<pre style=\"white-space:pre;overflow-x:auto;line-height:normal;font-family:Menlo,'DejaVu Sans Mono',consolas,'Courier New',monospace\"><span style=\"font-weight: bold\"> Non-trainable params: </span><span style=\"color: #00af00; text-decoration-color: #00af00\">23,587,712</span> (89.98 MB)\n",
              "</pre>\n"
            ]
          },
          "metadata": {}
        }
      ],
      "source": [
        "# Download the Pretrained Model\n",
        "pretrained_model = keras.applications.ResNet50(\n",
        "    weights = \"imagenet\",  # Load the pre-trained weights on ImageNet\n",
        "    input_shape = image_dim,\n",
        "    include_top = False)\n",
        "\n",
        "# Freeze the model\n",
        "pretrained_model.trainable = False\n",
        "\n",
        "# Prepare our model to take in our data:\n",
        "### RGB images (3 channels) of 128*128 pixels\n",
        "inputs = keras.Input(shape = image_dim)\n",
        "\n",
        "# Set training to False to not train our base model\n",
        "x = pretrained_model(inputs, training = False)\n",
        "\n",
        "# Add a pooling layer\n",
        "x = keras.layers.GlobalAveragePooling2D()(x)\n",
        "\n",
        "x = keras.layers.Dense(256, activation='relu')(x)\n",
        "x = keras.layers.Dropout(0.5)(x)\n",
        "\n",
        "# A Dense classifier with classes (number for classification)\n",
        "outputs = keras.layers.Dense(num_classes, activation='softmax')(x)\n",
        "model = keras.Model(inputs, outputs)\n",
        "\n",
        "# View the model's architecture\n",
        "model.summary()"
      ]
    },
    {
      "cell_type": "markdown",
      "metadata": {
        "id": "h1WsVhF0_xXd"
      },
      "source": [
        "## Train the Model"
      ]
    },
    {
      "cell_type": "code",
      "source": [
        "# Compile the model\n",
        "model.compile(optimizer='adam',\n",
        "              loss='categorical_crossentropy',\n",
        "              metrics=['accuracy'])"
      ],
      "metadata": {
        "id": "MG2W0a2p1I4L"
      },
      "execution_count": null,
      "outputs": []
    },
    {
      "cell_type": "code",
      "source": [
        "# Callbacks like early stopping to help with training time\n",
        "callbacks = [\n",
        "    EarlyStopping(monitor = 'val_loss', patience = 3, restore_best_weights = True),\n",
        "    ReduceLROnPlateau(patience = 2, factor = 0.5),\n",
        "    ModelCheckpoint(\"best_transfer_model.h5\", save_best_only=True)\n",
        "]"
      ],
      "metadata": {
        "id": "W5iivkpRIuoi"
      },
      "execution_count": null,
      "outputs": []
    },
    {
      "cell_type": "code",
      "execution_count": null,
      "metadata": {
        "colab": {
          "base_uri": "https://localhost:8080/"
        },
        "id": "J-YnWFir_z1v",
        "outputId": "ed0d9856-2d3a-43f7-81f0-0b0726261607"
      },
      "outputs": [
        {
          "metadata": {
            "tags": null
          },
          "name": "stdout",
          "output_type": "stream",
          "text": [
            "Epoch 1/10\n",
            "\u001b[1m137/137\u001b[0m \u001b[32m━━━━━━━━━━━━━━━━━━━━\u001b[0m\u001b[37m\u001b[0m \u001b[1m0s\u001b[0m 13s/step - accuracy: 0.5691 - loss: 1.8827 "
          ]
        },
        {
          "metadata": {
            "tags": null
          },
          "name": "stderr",
          "output_type": "stream",
          "text": [
            "WARNING:absl:You are saving your model as an HDF5 file via `model.save()` or `keras.saving.save_model(model)`. This file format is considered legacy. We recommend using instead the native Keras format, e.g. `model.save('my_model.keras')` or `keras.saving.save_model(model, 'my_model.keras')`. \n"
          ]
        },
        {
          "metadata": {
            "tags": null
          },
          "name": "stdout",
          "output_type": "stream",
          "text": [
            "\u001b[1m137/137\u001b[0m \u001b[32m━━━━━━━━━━━━━━━━━━━━\u001b[0m\u001b[37m\u001b[0m \u001b[1m2100s\u001b[0m 15s/step - accuracy: 0.5704 - loss: 1.8759 - val_accuracy: 0.9936 - val_loss: 0.1519 - learning_rate: 0.0010\n",
            "Epoch 2/10\n",
            "\u001b[1m137/137\u001b[0m \u001b[32m━━━━━━━━━━━━━━━━━━━━\u001b[0m\u001b[37m\u001b[0m \u001b[1m0s\u001b[0m 11s/step - accuracy: 0.9245 - loss: 0.2319 "
          ]
        },
        {
          "metadata": {
            "tags": null
          },
          "name": "stderr",
          "output_type": "stream",
          "text": [
            "WARNING:absl:You are saving your model as an HDF5 file via `model.save()` or `keras.saving.save_model(model)`. This file format is considered legacy. We recommend using instead the native Keras format, e.g. `model.save('my_model.keras')` or `keras.saving.save_model(model, 'my_model.keras')`. \n"
          ]
        },
        {
          "output_type": "stream",
          "name": "stdout",
          "text": [
            "\u001b[1m137/137\u001b[0m \u001b[32m━━━━━━━━━━━━━━━━━━━━\u001b[0m\u001b[37m\u001b[0m \u001b[1m1574s\u001b[0m 12s/step - accuracy: 0.9245 - loss: 0.2317 - val_accuracy: 0.9715 - val_loss: 0.1136 - learning_rate: 0.0010\n",
            "Epoch 3/10\n",
            "\u001b[1m137/137\u001b[0m \u001b[32m━━━━━━━━━━━━━━━━━━━━\u001b[0m\u001b[37m\u001b[0m \u001b[1m0s\u001b[0m 10s/step - accuracy: 0.9570 - loss: 0.1388 "
          ]
        },
        {
          "output_type": "stream",
          "name": "stderr",
          "text": [
            "WARNING:absl:You are saving your model as an HDF5 file via `model.save()` or `keras.saving.save_model(model)`. This file format is considered legacy. We recommend using instead the native Keras format, e.g. `model.save('my_model.keras')` or `keras.saving.save_model(model, 'my_model.keras')`. \n"
          ]
        },
        {
          "output_type": "stream",
          "name": "stdout",
          "text": [
            "\b\b\b\b\b\b\b\b\b\b\b\b\b\b\b\b\b\b\b\b\b\b\b\b\b\b\b\b\b\b\b\b\b\b\b\b\b\b\b\b\b\b\b\b\b\b\b\b\b\b\b\b\b\b\b\b\b\b\b\b\b\b\b\b\b\b\b\b\b\b\b\b\b\b\r\u001b[1m137/137\u001b[0m \u001b[32m━━━━━━━━━━━━━━━━━━━━\u001b[0m\u001b[37m\u001b[0m \u001b[1m1399s\u001b[0m 10s/step - accuracy: 0.9570 - loss: 0.1388 - val_accuracy: 0.9972 - val_loss: 0.0325 - learning_rate: 0.0010\n",
            "Epoch 4/10\n",
            "\u001b[1m137/137\u001b[0m \u001b[32m━━━━━━━━━━━━━━━━━━━━\u001b[0m\u001b[37m\u001b[0m \u001b[1m1158s\u001b[0m 8s/step - accuracy: 0.9758 - loss: 0.0897 - val_accuracy: 0.9972 - val_loss: 0.0327 - learning_rate: 0.0010\n",
            "Epoch 5/10\n",
            "\u001b[1m137/137\u001b[0m \u001b[32m━━━━━━━━━━━━━━━━━━━━\u001b[0m\u001b[37m\u001b[0m \u001b[1m0s\u001b[0m 7s/step - accuracy: 0.9788 - loss: 0.0624"
          ]
        },
        {
          "output_type": "stream",
          "name": "stderr",
          "text": [
            "WARNING:absl:You are saving your model as an HDF5 file via `model.save()` or `keras.saving.save_model(model)`. This file format is considered legacy. We recommend using instead the native Keras format, e.g. `model.save('my_model.keras')` or `keras.saving.save_model(model, 'my_model.keras')`. \n"
          ]
        },
        {
          "output_type": "stream",
          "name": "stdout",
          "text": [
            "\b\b\b\b\b\b\b\b\b\b\b\b\b\b\b\b\b\b\b\b\b\b\b\b\b\b\b\b\b\b\b\b\b\b\b\b\b\b\b\b\b\b\b\b\b\b\b\b\b\b\b\b\b\b\b\b\b\b\b\b\b\b\b\b\b\b\b\b\b\b\b\b\b\r\u001b[1m137/137\u001b[0m \u001b[32m━━━━━━━━━━━━━━━━━━━━\u001b[0m\u001b[37m\u001b[0m \u001b[1m1044s\u001b[0m 8s/step - accuracy: 0.9788 - loss: 0.0624 - val_accuracy: 0.9954 - val_loss: 0.0223 - learning_rate: 0.0010\n",
            "Epoch 6/10\n",
            "\u001b[1m137/137\u001b[0m \u001b[32m━━━━━━━━━━━━━━━━━━━━\u001b[0m\u001b[37m\u001b[0m \u001b[1m921s\u001b[0m 7s/step - accuracy: 0.9819 - loss: 0.0538 - val_accuracy: 0.9945 - val_loss: 0.0276 - learning_rate: 0.0010\n",
            "Epoch 7/10\n",
            "\u001b[1m137/137\u001b[0m \u001b[32m━━━━━━━━━━━━━━━━━━━━\u001b[0m\u001b[37m\u001b[0m \u001b[1m801s\u001b[0m 6s/step - accuracy: 0.9801 - loss: 0.0574 - val_accuracy: 0.9936 - val_loss: 0.0290 - learning_rate: 0.0010\n",
            "Epoch 8/10\n",
            "\u001b[1m137/137\u001b[0m \u001b[32m━━━━━━━━━━━━━━━━━━━━\u001b[0m\u001b[37m\u001b[0m \u001b[1m734s\u001b[0m 5s/step - accuracy: 0.9907 - loss: 0.0310 - val_accuracy: 0.9936 - val_loss: 0.0262 - learning_rate: 5.0000e-04\n"
          ]
        }
      ],
      "source": [
        "# Train the model\n",
        "#with tf.device('/GPU:0'):\n",
        "history = model.fit(\n",
        "    train_generator,\n",
        "    validation_data = valid_generator,\n",
        "    epochs = 10,\n",
        "    steps_per_epoch = train_generator.samples // batch_size // 10, # Have to specify this due to using a data generator\n",
        "    validation_steps = valid_generator.samples // batch_size // 10,\n",
        "    callbacks = callbacks\n",
        ")"
      ]
    },
    {
      "cell_type": "code",
      "source": [
        "# plot accuracy across epochs\n",
        "plt.plot(history.history['accuracy'], label = 'Train Acc')\n",
        "plt.plot(history.history['val_accuracy'], label = 'Val Acc')\n",
        "plt.legend()\n",
        "plt.title(\"Accuracy over Epochs\")\n",
        "plt.show()"
      ],
      "metadata": {
        "id": "vCuxBdKztVDq",
        "colab": {
          "base_uri": "https://localhost:8080/",
          "height": 452
        },
        "outputId": "3fa8dd47-eb5e-44aa-e645-d85a21a75e93"
      },
      "execution_count": null,
      "outputs": [
        {
          "output_type": "display_data",
          "data": {
            "text/plain": [
              "<Figure size 640x480 with 1 Axes>"
            ],
            "image/png": "[encoded data removed]"
          },
          "metadata": {}
        }
      ]
    },
    {
      "cell_type": "markdown",
      "source": [
        "### **Fine-Tuning our Model**"
      ],
      "metadata": {
        "id": "iwUNzMRuybNA"
      }
    },
    {
      "cell_type": "code",
      "source": [
        "# Unfreeze the pretrained model\n",
        "pretrained_model.trainable = True\n",
        "\n",
        "# Recompile the model after we make changes to the `trainable` attribute\n",
        "# of any inner layer, so that changes are taken into account\n",
        "model.compile(optimizer = keras.optimizers.RMSprop(learning_rate = 0.00001), # Very small learning rate\n",
        "              loss = 'categorical_crossentropy',\n",
        "              metrics = ['accuracy'])"
      ],
      "metadata": {
        "id": "ge3_wZdiyZMS"
      },
      "execution_count": null,
      "outputs": []
    },
    {
      "cell_type": "code",
      "source": [
        "# Callbacks like early stopping to help with training time\n",
        "callbacks = [\n",
        "    EarlyStopping(monitor = 'val_loss', patience = 2, restore_best_weights = True),\n",
        "    ReduceLROnPlateau(patience = 2, factor = 0.5),\n",
        "    ModelCheckpoint(\"best_transfer_model_tuned.h5\", save_best_only=True)\n",
        "]\n",
        "\n",
        "# Refit the model with unfrozen layers\n",
        "history = model.fit(\n",
        "    train_generator,\n",
        "    validation_data = valid_generator,\n",
        "    epochs = 5,\n",
        "    steps_per_epoch = train_generator.samples // batch_size // 10, # Have to specify this due to using a data generator\n",
        "    validation_steps = valid_generator.samples // batch_size // 10,\n",
        "    callbacks = callbacks\n",
        ")"
      ],
      "metadata": {
        "id": "yIdErdJJyduR",
        "colab": {
          "base_uri": "https://localhost:8080/"
        },
        "outputId": "5d8bd988-878e-423a-c4d2-88aef83d7114"
      },
      "execution_count": null,
      "outputs": [
        {
          "output_type": "stream",
          "name": "stdout",
          "text": [
            "Epoch 1/5\n",
            "\u001b[1m137/137\u001b[0m \u001b[32m━━━━━━━━━━━━━━━━━━━━\u001b[0m\u001b[37m\u001b[0m \u001b[1m0s\u001b[0m 5s/step - accuracy: 0.8094 - loss: 0.6239"
          ]
        },
        {
          "output_type": "stream",
          "name": "stderr",
          "text": [
            "WARNING:absl:You are saving your model as an HDF5 file via `model.save()` or `keras.saving.save_model(model)`. This file format is considered legacy. We recommend using instead the native Keras format, e.g. `model.save('my_model.keras')` or `keras.saving.save_model(model, 'my_model.keras')`. \n"
          ]
        },
        {
          "output_type": "stream",
          "name": "stdout",
          "text": [
            "\b\b\b\b\b\b\b\b\b\b\b\b\b\b\b\b\b\b\b\b\b\b\b\b\b\b\b\b\b\b\b\b\b\b\b\b\b\b\b\b\b\b\b\b\b\b\b\b\b\b\b\b\b\b\b\b\b\b\b\b\b\b\b\b\b\b\b\b\b\b\b\b\b\r\u001b[1m137/137\u001b[0m \u001b[32m━━━━━━━━━━━━━━━━━━━━\u001b[0m\u001b[37m\u001b[0m \u001b[1m727s\u001b[0m 5s/step - accuracy: 0.8099 - loss: 0.6223 - val_accuracy: 1.0000 - val_loss: 0.0022 - learning_rate: 1.0000e-05\n",
            "Epoch 2/5\n",
            "\u001b[1m137/137\u001b[0m \u001b[32m━━━━━━━━━━━━━━━━━━━━\u001b[0m\u001b[37m\u001b[0m \u001b[1m0s\u001b[0m 5s/step - accuracy: 0.9710 - loss: 0.1044"
          ]
        },
        {
          "output_type": "stream",
          "name": "stderr",
          "text": [
            "WARNING:absl:You are saving your model as an HDF5 file via `model.save()` or `keras.saving.save_model(model)`. This file format is considered legacy. We recommend using instead the native Keras format, e.g. `model.save('my_model.keras')` or `keras.saving.save_model(model, 'my_model.keras')`. \n"
          ]
        },
        {
          "output_type": "stream",
          "name": "stdout",
          "text": [
            "\b\b\b\b\b\b\b\b\b\b\b\b\b\b\b\b\b\b\b\b\b\b\b\b\b\b\b\b\b\b\b\b\b\b\b\b\b\b\b\b\b\b\b\b\b\b\b\b\b\b\b\b\b\b\b\b\b\b\b\b\b\b\b\b\b\b\b\b\b\b\b\b\b\r\u001b[1m137/137\u001b[0m \u001b[32m━━━━━━━━━━━━━━━━━━━━\u001b[0m\u001b[37m\u001b[0m \u001b[1m626s\u001b[0m 5s/step - accuracy: 0.9711 - loss: 0.1042 - val_accuracy: 1.0000 - val_loss: 9.0136e-04 - learning_rate: 1.0000e-05\n",
            "Epoch 3/5\n",
            "\u001b[1m137/137\u001b[0m \u001b[32m━━━━━━━━━━━━━━━━━━━━\u001b[0m\u001b[37m\u001b[0m \u001b[1m0s\u001b[0m 4s/step - accuracy: 0.9907 - loss: 0.0405"
          ]
        },
        {
          "output_type": "stream",
          "name": "stderr",
          "text": [
            "WARNING:absl:You are saving your model as an HDF5 file via `model.save()` or `keras.saving.save_model(model)`. This file format is considered legacy. We recommend using instead the native Keras format, e.g. `model.save('my_model.keras')` or `keras.saving.save_model(model, 'my_model.keras')`. \n"
          ]
        },
        {
          "output_type": "stream",
          "name": "stdout",
          "text": [
            "\b\b\b\b\b\b\b\b\b\b\b\b\b\b\b\b\b\b\b\b\b\b\b\b\b\b\b\b\b\b\b\b\b\b\b\b\b\b\b\b\b\b\b\b\b\b\b\b\b\b\b\b\b\b\b\b\b\b\b\b\b\b\b\b\b\b\b\b\b\b\b\b\b\r\u001b[1m137/137\u001b[0m \u001b[32m━━━━━━━━━━━━━━━━━━━━\u001b[0m\u001b[37m\u001b[0m \u001b[1m622s\u001b[0m 5s/step - accuracy: 0.9907 - loss: 0.0405 - val_accuracy: 1.0000 - val_loss: 1.4927e-04 - learning_rate: 1.0000e-05\n",
            "Epoch 4/5\n",
            "\u001b[1m137/137\u001b[0m \u001b[32m━━━━━━━━━━━━━━━━━━━━\u001b[0m\u001b[37m\u001b[0m \u001b[1m0s\u001b[0m 4s/step - accuracy: 0.9937 - loss: 0.0293"
          ]
        },
        {
          "output_type": "stream",
          "name": "stderr",
          "text": [
            "WARNING:absl:You are saving your model as an HDF5 file via `model.save()` or `keras.saving.save_model(model)`. This file format is considered legacy. We recommend using instead the native Keras format, e.g. `model.save('my_model.keras')` or `keras.saving.save_model(model, 'my_model.keras')`. \n"
          ]
        },
        {
          "output_type": "stream",
          "name": "stdout",
          "text": [
            "\b\b\b\b\b\b\b\b\b\b\b\b\b\b\b\b\b\b\b\b\b\b\b\b\b\b\b\b\b\b\b\b\b\b\b\b\b\b\b\b\b\b\b\b\b\b\b\b\b\b\b\b\b\b\b\b\b\b\b\b\b\b\b\b\b\b\b\b\b\b\b\b\b\r\u001b[1m137/137\u001b[0m \u001b[32m━━━━━━━━━━━━━━━━━━━━\u001b[0m\u001b[37m\u001b[0m \u001b[1m502s\u001b[0m 4s/step - accuracy: 0.9937 - loss: 0.0292 - val_accuracy: 1.0000 - val_loss: 7.9092e-05 - learning_rate: 1.0000e-05\n",
            "Epoch 5/5\n",
            "\u001b[1m137/137\u001b[0m \u001b[32m━━━━━━━━━━━━━━━━━━━━\u001b[0m\u001b[37m\u001b[0m \u001b[1m0s\u001b[0m 3s/step - accuracy: 0.9968 - loss: 0.0194"
          ]
        },
        {
          "output_type": "stream",
          "name": "stderr",
          "text": [
            "WARNING:absl:You are saving your model as an HDF5 file via `model.save()` or `keras.saving.save_model(model)`. This file format is considered legacy. We recommend using instead the native Keras format, e.g. `model.save('my_model.keras')` or `keras.saving.save_model(model, 'my_model.keras')`. \n"
          ]
        },
        {
          "output_type": "stream",
          "name": "stdout",
          "text": [
            "\b\b\b\b\b\b\b\b\b\b\b\b\b\b\b\b\b\b\b\b\b\b\b\b\b\b\b\b\b\b\b\b\b\b\b\b\b\b\b\b\b\b\b\b\b\b\b\b\b\b\b\b\b\b\b\b\b\b\b\b\b\b\b\b\b\b\b\b\b\b\b\b\b\r\u001b[1m137/137\u001b[0m \u001b[32m━━━━━━━━━━━━━━━━━━━━\u001b[0m\u001b[37m\u001b[0m \u001b[1m454s\u001b[0m 3s/step - accuracy: 0.9968 - loss: 0.0194 - val_accuracy: 1.0000 - val_loss: 2.6591e-05 - learning_rate: 1.0000e-05\n"
          ]
        }
      ]
    },
    {
      "cell_type": "markdown",
      "metadata": {
        "id": "xRnmDjJ__03H"
      },
      "source": [
        "# Results"
      ]
    },
    {
      "cell_type": "code",
      "source": [
        "cnn_model = keras.models.load_model(\"best_transfer_model_tuned.h5\")"
      ],
      "metadata": {
        "colab": {
          "base_uri": "https://localhost:8080/"
        },
        "id": "xpCKldODmhfo",
        "outputId": "bc1dba96-ca95-45ef-f9e1-185548729322"
      },
      "execution_count": null,
      "outputs": [
        {
          "output_type": "stream",
          "name": "stderr",
          "text": [
            "WARNING:absl:Compiled the loaded model, but the compiled metrics have yet to be built. `model.compile_metrics` will be empty until you train or evaluate the model.\n"
          ]
        }
      ]
    },
    {
      "cell_type": "code",
      "execution_count": null,
      "metadata": {
        "id": "pGlykjYmvfQg"
      },
      "outputs": [],
      "source": [
        "# # Read the pickled data generators\n",
        "# import pickle\n",
        "# with open('trained_cnn_model.pkl', 'rb') as file:\n",
        "#     cnn_model = pickle.load(file)"
      ]
    },
    {
      "cell_type": "markdown",
      "metadata": {
        "id": "h06XUJZhEYAf"
      },
      "source": [
        "## Make Predictions from our Test Dataset"
      ]
    },
    {
      "cell_type": "code",
      "execution_count": null,
      "metadata": {
        "id": "CvkKQoM-Cwz5"
      },
      "outputs": [],
      "source": [
        "# Define the class names\n",
        "street_sign_classes = list(valid_generator.class_indices.keys())"
      ]
    },
    {
      "cell_type": "code",
      "execution_count": null,
      "metadata": {
        "colab": {
          "base_uri": "https://localhost:8080/"
        },
        "id": "904ICVoBu2Lg",
        "outputId": "a9368d8f-80a5-4252-d300-0823c1c54a54"
      },
      "outputs": [
        {
          "output_type": "execute_result",
          "data": {
            "text/plain": [
              "['10mph',\n",
              " '20mph',\n",
              " '30mph',\n",
              " '40mph',\n",
              " 'crossroads',\n",
              " 'cycle_route_ahead',\n",
              " 'frail',\n",
              " 'give_way',\n",
              " 'give_way_to_oncoming',\n",
              " 'keep_left',\n",
              " 'keep_right',\n",
              " 'mini_roundabout',\n",
              " 'no_entry',\n",
              " 'no_left_turn',\n",
              " 'no_motor_vehicles',\n",
              " 'no_right_turn',\n",
              " 'no_through_road',\n",
              " 'one_way_traffic',\n",
              " 'road_humps',\n",
              " 'road_narrows_on_both_sides',\n",
              " 'road_narrows_on_left',\n",
              " 'road_narrows_on_right',\n",
              " 'road_works',\n",
              " 'school_crossing',\n",
              " 'traffic_has_priority',\n",
              " 'traffic_signals',\n",
              " 'turn_left',\n",
              " 'turn_left_ahead',\n",
              " 'turn_right',\n",
              " 'two_way_traffic',\n",
              " 'zebra_crossing']"
            ]
          },
          "metadata": {},
          "execution_count": 8
        }
      ],
      "source": [
        "street_sign_classes"
      ]
    },
    {
      "cell_type": "code",
      "execution_count": null,
      "metadata": {
        "id": "dMJGYzR0_2b7"
      },
      "outputs": [],
      "source": [
        "# To display our images\n",
        "def show_image(generator, index):\n",
        "    \"\"\"\n",
        "    INPUTS\n",
        "      generator: the Image generator object where the test data resides\n",
        "      index: the index of the image in the test set that we want to use\n",
        "    \"\"\"\n",
        "    image_batch, label_batch = generator[index]  # Get the batch\n",
        "    image = image_batch[0]  # First image in the batch\n",
        "    label = label_batch[0]\n",
        "\n",
        "    # Plot the image\n",
        "    plt.imshow(image)\n",
        "    plt.axis('off')\n",
        "    true_label = street_sign_classes[np.argmax(label)]\n",
        "    plt.title(\"True Label: \" + true_label)\n",
        "    plt.show()\n",
        "\n",
        "# To make predictions on an image\n",
        "def make_predictions(model, generator, index):\n",
        "    image_batch, _ = generator[index]  # Get a batch\n",
        "    image = image_batch[0:1]  # First image only, but keep batch dimension\n",
        "    preds = model.predict(image)\n",
        "    return preds[0] # single (indexed) image prediction\n",
        "\n",
        "# THIS IS THE FUNCTION YOU USE TO SPIT AN IMAGE AND PREDICTION!!\n",
        "def sign_classifier(model, generator, index):\n",
        "    show_image(generator, index)\n",
        "    preds = make_predictions(model, generator, index)\n",
        "    predicted_label = street_sign_classes[np.argmax(preds)]\n",
        "    print(\"This is a \" + predicted_label + \"street sign!\")"
      ]
    },
    {
      "cell_type": "code",
      "execution_count": null,
      "metadata": {
        "colab": {
          "base_uri": "https://localhost:8080/",
          "height": 500
        },
        "id": "g1wH4rvwNRL6",
        "outputId": "7abcdd7e-896e-4224-f3c3-fcbd8c9e2c90"
      },
      "outputs": [
        {
          "output_type": "stream",
          "name": "stderr",
          "text": [
            "WARNING:matplotlib.image:Clipping input data to the valid range for imshow with RGB data ([0..1] for floats or [0..255] for integers). Got range [-108.40749..142.5925].\n"
          ]
        },
        {
          "output_type": "display_data",
          "data": {
            "text/plain": [
              "<Figure size 640x480 with 1 Axes>"
            ],
            "image/png": "[encoded data removed]"
          },
          "metadata": {}
        },
        {
          "output_type": "stream",
          "name": "stdout",
          "text": [
            "\u001b[1m1/1\u001b[0m \u001b[32m━━━━━━━━━━━━━━━━━━━━\u001b[0m\u001b[37m\u001b[0m \u001b[1m0s\u001b[0m 311ms/step\n",
            "This is a 10mphstreet sign!\n"
          ]
        }
      ],
      "source": [
        "sign_classifier(cnn_model, valid_generator, 4)"
      ]
    },
    {
      "cell_type": "code",
      "execution_count": null,
      "metadata": {
        "id": "aLuJsLSHwOCv",
        "colab": {
          "base_uri": "https://localhost:8080/",
          "height": 500
        },
        "outputId": "e5703b87-15ca-4d34-e406-9cb3909bbb19"
      },
      "outputs": [
        {
          "output_type": "stream",
          "name": "stderr",
          "text": [
            "WARNING:matplotlib.image:Clipping input data to the valid range for imshow with RGB data ([0..1] for floats or [0..255] for integers). Got range [-91.526405..137.4736].\n"
          ]
        },
        {
          "output_type": "display_data",
          "data": {
            "text/plain": [
              "<Figure size 640x480 with 1 Axes>"
            ],
            "image/png": "[encoded data removed]"
          },
          "metadata": {}
        },
        {
          "output_type": "stream",
          "name": "stdout",
          "text": [
            "\u001b[1m1/1\u001b[0m \u001b[32m━━━━━━━━━━━━━━━━━━━━\u001b[0m\u001b[37m\u001b[0m \u001b[1m0s\u001b[0m 42ms/step\n",
            "This is a 20mphstreet sign!\n"
          ]
        }
      ],
      "source": [
        "sign_classifier(cnn_model, valid_generator, 32)"
      ]
    },
    {
      "cell_type": "markdown",
      "metadata": {
        "id": "Qr8EDpwUzI8o"
      },
      "source": [
        "### Composite"
      ]
    },
    {
      "cell_type": "code",
      "source": [
        "model_predict = cnn_model.predict(\n",
        "    valid_generator\n",
        ")\n",
        "labels_predict = np.argmax(model_predict, axis = 1)"
      ],
      "metadata": {
        "colab": {
          "base_uri": "https://localhost:8080/"
        },
        "id": "-AZTY2nJsVki",
        "outputId": "787cc46b-e716-452c-dd22-16f1fff051f2"
      },
      "execution_count": null,
      "outputs": [
        {
          "output_type": "stream",
          "name": "stderr",
          "text": [
            "/usr/local/lib/python3.11/dist-packages/keras/src/trainers/data_adapters/py_dataset_adapter.py:121: UserWarning: Your `PyDataset` class should call `super().__init__(**kwargs)` in its constructor. `**kwargs` can include `workers`, `use_multiprocessing`, `max_queue_size`. Do not pass these arguments to `fit()`, as they will be ignored.\n",
            "  self._warn_if_super_not_called()\n"
          ]
        },
        {
          "output_type": "stream",
          "name": "stdout",
          "text": [
            "\u001b[1m344/344\u001b[0m \u001b[32m━━━━━━━━━━━━━━━━━━━━\u001b[0m\u001b[37m\u001b[0m \u001b[1m9664s\u001b[0m 28s/step\n"
          ]
        }
      ]
    },
    {
      "cell_type": "code",
      "source": [
        "# Save the fully-predicted labels\n",
        "val_preds = {\n",
        "    \"model_predict\": model_predict,\n",
        "    \"labels_predict\": labels_predict\n",
        "}\n",
        "\n",
        "import pickle\n",
        "with open('validation_preds_cnn_transfer_model.pkl', 'wb') as file:\n",
        "    pickle.dump(val_preds, file)"
      ],
      "metadata": {
        "id": "pY2rrEW323Y_"
      },
      "execution_count": null,
      "outputs": []
    },
    {
      "cell_type": "code",
      "source": [
        "plt.figure(figsize=(12, 12))\n",
        "metrics.ConfusionMatrixDisplay.from_predictions(valid_generator.classes, labels_predict, cmap = \"GnBu\")"
      ],
      "metadata": {
        "colab": {
          "base_uri": "https://localhost:8080/",
          "height": 486
        },
        "id": "so78FbeusfEe",
        "outputId": "6f9d5608-6928-4fd7-ff2c-c384d4cd2a11"
      },
      "execution_count": null,
      "outputs": [
        {
          "output_type": "execute_result",
          "data": {
            "text/plain": [
              "<sklearn.metrics._plot.confusion_matrix.ConfusionMatrixDisplay at 0x7ed2603f7b50>"
            ]
          },
          "metadata": {},
          "execution_count": 11
        },
        {
          "output_type": "display_data",
          "data": {
            "text/plain": [
              "<Figure size 1200x1200 with 0 Axes>"
            ]
          },
          "metadata": {}
        },
        {
          "output_type": "display_data",
          "data": {
            "text/plain": [
              "<Figure size 640x480 with 2 Axes>"
            ],
            "image/png": "[encoded data removed]"
          },
          "metadata": {}
        }
      ]
    },
    {
      "cell_type": "code",
      "source": [
        "accuracy = metrics.accuracy_score(valid_generator.classes, labels_predict)\n",
        "print(f\"CNN Model accuracy: {accuracy}\")"
      ],
      "metadata": {
        "colab": {
          "base_uri": "https://localhost:8080/"
        },
        "id": "ozoi0BrZtH4M",
        "outputId": "14fdb56e-a29e-4c05-95f5-fab7f693332c"
      },
      "execution_count": null,
      "outputs": [
        {
          "output_type": "stream",
          "name": "stdout",
          "text": [
            "CNN Model accuracy: 0.9525799418604651\n"
          ]
        }
      ]
    },
    {
      "cell_type": "markdown",
      "metadata": {
        "id": "rV8iQ4euEbUD"
      },
      "source": [
        "## Complete Out-of-Sample Predictions\n",
        "\n",
        "This data comes from a YouTube video that had shown UK street signs: https://youtu.be/83fn_DAItBA?feature=shared\n",
        "\n",
        "(TODO: add these screenshots to the Shared Drive)"
      ]
    },
    {
      "cell_type": "code",
      "execution_count": null,
      "metadata": {
        "id": "rB1Jr70FExkS",
        "colab": {
          "base_uri": "https://localhost:8080/"
        },
        "outputId": "393d11c3-e0d6-44eb-e1a9-67497a9ab8eb"
      },
      "outputs": [
        {
          "output_type": "stream",
          "name": "stdout",
          "text": [
            "Found 97 images belonging to 20 classes.\n"
          ]
        }
      ],
      "source": [
        "# Test generators\n",
        "# We don't augment our test data since it's not being learned in our model\n",
        "datagen_test = ImageDataGenerator(\n",
        "    samplewise_center = True\n",
        ")\n",
        "\n",
        "# Get data from the directory\n",
        "data_dir = \"./ood_test_set/\"\n",
        "set_seed = 22\n",
        "batch_size = 32\n",
        "\n",
        "# Validation data generator\n",
        "test_generator = datagen_test.flow_from_directory(\n",
        "    data_dir,\n",
        "    target_size = (128, 128),\n",
        "    batch_size = batch_size,\n",
        "    class_mode = \"categorical\",\n",
        "    seed = set_seed,\n",
        "    shuffle = False # Keep order\n",
        ")"
      ]
    },
    {
      "cell_type": "code",
      "source": [
        "# Make predictions\n",
        "model_predict = cnn_model.predict(\n",
        "    test_generator\n",
        ")\n",
        "labels_predict = np.argmax(model_predict, axis = 1)"
      ],
      "metadata": {
        "colab": {
          "base_uri": "https://localhost:8080/"
        },
        "id": "n_I703SDRNSv",
        "outputId": "f983c034-1906-4a07-ea90-f716be729cac"
      },
      "execution_count": null,
      "outputs": [
        {
          "output_type": "stream",
          "name": "stderr",
          "text": [
            "/usr/local/lib/python3.11/dist-packages/keras/src/trainers/data_adapters/py_dataset_adapter.py:121: UserWarning: Your `PyDataset` class should call `super().__init__(**kwargs)` in its constructor. `**kwargs` can include `workers`, `use_multiprocessing`, `max_queue_size`. Do not pass these arguments to `fit()`, as they will be ignored.\n",
            "  self._warn_if_super_not_called()\n"
          ]
        },
        {
          "output_type": "stream",
          "name": "stdout",
          "text": [
            "\u001b[1m4/4\u001b[0m \u001b[32m━━━━━━━━━━━━━━━━━━━━\u001b[0m\u001b[37m\u001b[0m \u001b[1m36s\u001b[0m 11s/step\n"
          ]
        }
      ]
    },
    {
      "cell_type": "code",
      "source": [
        "# Save the fully-predicted labels\n",
        "test_preds = {\n",
        "    \"model_predict\": model_predict,\n",
        "    \"labels_predict\": labels_predict\n",
        "}\n",
        "with open('test_preds_cnn_transfer_model.pkl', 'wb') as file:\n",
        "    pickle.dump(test_preds, file)"
      ],
      "metadata": {
        "id": "o-xUf-1xRVWU"
      },
      "execution_count": null,
      "outputs": []
    },
    {
      "cell_type": "markdown",
      "source": [
        "### Results of OOS Tests"
      ],
      "metadata": {
        "id": "GAH5OlM6RelL"
      }
    },
    {
      "cell_type": "code",
      "source": [
        "plt.figure(figsize=(12, 12))\n",
        "metrics.ConfusionMatrixDisplay.from_predictions(test_generator.classes, labels_predict, cmap = \"GnBu\")"
      ],
      "metadata": {
        "colab": {
          "base_uri": "https://localhost:8080/",
          "height": 491
        },
        "id": "QA-e-S1wRgu3",
        "outputId": "8193d4d7-fff3-4039-8dae-96bb25998725"
      },
      "execution_count": null,
      "outputs": [
        {
          "output_type": "execute_result",
          "data": {
            "text/plain": [
              "<sklearn.metrics._plot.confusion_matrix.ConfusionMatrixDisplay at 0x7ed1ee7faa50>"
            ]
          },
          "metadata": {},
          "execution_count": 16
        },
        {
          "output_type": "display_data",
          "data": {
            "text/plain": [
              "<Figure size 1200x1200 with 0 Axes>"
            ]
          },
          "metadata": {}
        },
        {
          "output_type": "display_data",
          "data": {
            "text/plain": [
              "<Figure size 640x480 with 2 Axes>"
            ],
            "image/png": "[encoded data removed]"
          },
          "metadata": {}
        }
      ]
    },
    {
      "cell_type": "code",
      "source": [
        "accuracy = metrics.accuracy_score(test_generator.classes, labels_predict)\n",
        "print(f\"CNN Model accuracy: {accuracy}\")"
      ],
      "metadata": {
        "colab": {
          "base_uri": "https://localhost:8080/"
        },
        "id": "SdI-3R1vRiiJ",
        "outputId": "ada971bb-ab92-4561-f9e0-33955b2cc8ea"
      },
      "execution_count": null,
      "outputs": [
        {
          "output_type": "stream",
          "name": "stdout",
          "text": [
            "CNN Model accuracy: 0.030927835051546393\n"
          ]
        }
      ]
    },
    {
      "cell_type": "code",
      "source": [
        "test_generator.classes, labels_predict"
      ],
      "metadata": {
        "colab": {
          "base_uri": "https://localhost:8080/"
        },
        "id": "Uqu5NmUuRksc",
        "outputId": "b409762e-e4a3-4cff-e2c8-a713e3227a46"
      },
      "execution_count": null,
      "outputs": [
        {
          "output_type": "execute_result",
          "data": {
            "text/plain": [
              "(array([ 0,  0,  0,  0,  0,  0,  0,  0,  1,  1,  1,  1,  1,  2,  2,  2,  2,\n",
              "         2,  2,  2,  2,  2,  2,  2,  2,  2,  2,  3,  4,  4,  4,  5,  5,  5,\n",
              "         5,  5,  6,  6,  6,  6,  6,  6,  6,  6,  6,  6,  6,  6,  6,  6,  7,\n",
              "         7,  8,  8,  8,  8,  8,  9,  9,  9,  9,  9, 10, 11, 12, 13, 13, 13,\n",
              "        14, 14, 14, 15, 16, 17, 17, 17, 17, 17, 17, 18, 18, 18, 18, 18, 18,\n",
              "        18, 18, 18, 18, 18, 18, 18, 18, 18, 18, 18, 19], dtype=int32),\n",
              " array([ 3,  0,  1,  2,  2,  2,  1,  1,  2,  2,  2,  2,  2,  3,  3,  3,  3,\n",
              "        21,  3,  3, 21,  1,  7,  3,  3,  2,  2,  4,  5,  5,  5,  7,  7,  7,\n",
              "         7,  7, 26, 26, 26,  9,  9,  9, 28, 12,  9,  2,  1,  9, 12, 26,  9,\n",
              "         9, 26, 26,  9, 11, 11, 24, 24, 15, 12, 12,  3, 14, 15, 24, 16, 16,\n",
              "        20, 20, 20, 19,  6,  4, 15, 30,  4, 30, 23, 26, 26, 26, 26,  9,  9,\n",
              "        26,  9, 26, 26, 28, 26, 26, 12, 26, 26, 26, 15]))"
            ]
          },
          "metadata": {},
          "execution_count": 19
        }
      ]
    },
    {
      "cell_type": "code",
      "source": [],
      "metadata": {
        "id": "QT1gUg3p2ONC"
      },
      "execution_count": null,
      "outputs": []
    }
  ],
  "metadata": {
    "colab": {
      "provenance": [],
      "toc_visible": true,
      "gpuType": "T4"
    },
    "kernelspec": {
      "display_name": "Python 3",
      "name": "python3"
    },
    "language_info": {
      "name": "python"
    },
    "accelerator": "GPU"
  },
  "nbformat": 4,
  "nbformat_minor": 0
}